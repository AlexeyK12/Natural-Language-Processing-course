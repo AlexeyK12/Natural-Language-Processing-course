{
  "nbformat": 4,
  "nbformat_minor": 0,
  "metadata": {
    "colab": {
      "provenance": [],
      "gpuType": "T4",
      "include_colab_link": true
    },
    "kernelspec": {
      "name": "python3",
      "display_name": "Python 3"
    },
    "language_info": {
      "name": "python"
    },
    "widgets": {
      "application/vnd.jupyter.widget-state+json": {
        "b646529b304943ff98a81ccad7eee8a6": {
          "model_module": "@jupyter-widgets/controls",
          "model_name": "HBoxModel",
          "model_module_version": "1.5.0",
          "state": {
            "_dom_classes": [],
            "_model_module": "@jupyter-widgets/controls",
            "_model_module_version": "1.5.0",
            "_model_name": "HBoxModel",
            "_view_count": null,
            "_view_module": "@jupyter-widgets/controls",
            "_view_module_version": "1.5.0",
            "_view_name": "HBoxView",
            "box_style": "",
            "children": [
              "IPY_MODEL_ccd21e002b4f4e23a90b148069891d9d",
              "IPY_MODEL_c3c8a717b2404666be3e69f178c7de6c",
              "IPY_MODEL_7b72c2b0192c41e1949e87c46bf15a93"
            ],
            "layout": "IPY_MODEL_a6fafeede4ac416f93cd9f8c4b9858f1"
          }
        },
        "ccd21e002b4f4e23a90b148069891d9d": {
          "model_module": "@jupyter-widgets/controls",
          "model_name": "HTMLModel",
          "model_module_version": "1.5.0",
          "state": {
            "_dom_classes": [],
            "_model_module": "@jupyter-widgets/controls",
            "_model_module_version": "1.5.0",
            "_model_name": "HTMLModel",
            "_view_count": null,
            "_view_module": "@jupyter-widgets/controls",
            "_view_module_version": "1.5.0",
            "_view_name": "HTMLView",
            "description": "",
            "description_tooltip": null,
            "layout": "IPY_MODEL_6bbf194c8e604ac9b8f04f4ae41f5e28",
            "placeholder": "​",
            "style": "IPY_MODEL_2e11e2cbb15541328bca6216fc0ecf46",
            "value": "Filter (num_proc=4): 100%"
          }
        },
        "c3c8a717b2404666be3e69f178c7de6c": {
          "model_module": "@jupyter-widgets/controls",
          "model_name": "FloatProgressModel",
          "model_module_version": "1.5.0",
          "state": {
            "_dom_classes": [],
            "_model_module": "@jupyter-widgets/controls",
            "_model_module_version": "1.5.0",
            "_model_name": "FloatProgressModel",
            "_view_count": null,
            "_view_module": "@jupyter-widgets/controls",
            "_view_module_version": "1.5.0",
            "_view_name": "ProgressView",
            "bar_style": "success",
            "description": "",
            "description_tooltip": null,
            "layout": "IPY_MODEL_0301d96b8f4743a8bcce5bfea61474b7",
            "max": 2272,
            "min": 0,
            "orientation": "horizontal",
            "style": "IPY_MODEL_5f7b608e57ee4846a86601927ee9db9d",
            "value": 2272
          }
        },
        "7b72c2b0192c41e1949e87c46bf15a93": {
          "model_module": "@jupyter-widgets/controls",
          "model_name": "HTMLModel",
          "model_module_version": "1.5.0",
          "state": {
            "_dom_classes": [],
            "_model_module": "@jupyter-widgets/controls",
            "_model_module_version": "1.5.0",
            "_model_name": "HTMLModel",
            "_view_count": null,
            "_view_module": "@jupyter-widgets/controls",
            "_view_module_version": "1.5.0",
            "_view_name": "HTMLView",
            "description": "",
            "description_tooltip": null,
            "layout": "IPY_MODEL_5922072d09dc44efbcacc9acc4e6cc54",
            "placeholder": "​",
            "style": "IPY_MODEL_bc7408cb5c9b4315b02b676e468cb299",
            "value": " 2272/2272 [00:00&lt;00:00, 4785.36 examples/s]"
          }
        },
        "a6fafeede4ac416f93cd9f8c4b9858f1": {
          "model_module": "@jupyter-widgets/base",
          "model_name": "LayoutModel",
          "model_module_version": "1.2.0",
          "state": {
            "_model_module": "@jupyter-widgets/base",
            "_model_module_version": "1.2.0",
            "_model_name": "LayoutModel",
            "_view_count": null,
            "_view_module": "@jupyter-widgets/base",
            "_view_module_version": "1.2.0",
            "_view_name": "LayoutView",
            "align_content": null,
            "align_items": null,
            "align_self": null,
            "border": null,
            "bottom": null,
            "display": null,
            "flex": null,
            "flex_flow": null,
            "grid_area": null,
            "grid_auto_columns": null,
            "grid_auto_flow": null,
            "grid_auto_rows": null,
            "grid_column": null,
            "grid_gap": null,
            "grid_row": null,
            "grid_template_areas": null,
            "grid_template_columns": null,
            "grid_template_rows": null,
            "height": null,
            "justify_content": null,
            "justify_items": null,
            "left": null,
            "margin": null,
            "max_height": null,
            "max_width": null,
            "min_height": null,
            "min_width": null,
            "object_fit": null,
            "object_position": null,
            "order": null,
            "overflow": null,
            "overflow_x": null,
            "overflow_y": null,
            "padding": null,
            "right": null,
            "top": null,
            "visibility": null,
            "width": null
          }
        },
        "6bbf194c8e604ac9b8f04f4ae41f5e28": {
          "model_module": "@jupyter-widgets/base",
          "model_name": "LayoutModel",
          "model_module_version": "1.2.0",
          "state": {
            "_model_module": "@jupyter-widgets/base",
            "_model_module_version": "1.2.0",
            "_model_name": "LayoutModel",
            "_view_count": null,
            "_view_module": "@jupyter-widgets/base",
            "_view_module_version": "1.2.0",
            "_view_name": "LayoutView",
            "align_content": null,
            "align_items": null,
            "align_self": null,
            "border": null,
            "bottom": null,
            "display": null,
            "flex": null,
            "flex_flow": null,
            "grid_area": null,
            "grid_auto_columns": null,
            "grid_auto_flow": null,
            "grid_auto_rows": null,
            "grid_column": null,
            "grid_gap": null,
            "grid_row": null,
            "grid_template_areas": null,
            "grid_template_columns": null,
            "grid_template_rows": null,
            "height": null,
            "justify_content": null,
            "justify_items": null,
            "left": null,
            "margin": null,
            "max_height": null,
            "max_width": null,
            "min_height": null,
            "min_width": null,
            "object_fit": null,
            "object_position": null,
            "order": null,
            "overflow": null,
            "overflow_x": null,
            "overflow_y": null,
            "padding": null,
            "right": null,
            "top": null,
            "visibility": null,
            "width": null
          }
        },
        "2e11e2cbb15541328bca6216fc0ecf46": {
          "model_module": "@jupyter-widgets/controls",
          "model_name": "DescriptionStyleModel",
          "model_module_version": "1.5.0",
          "state": {
            "_model_module": "@jupyter-widgets/controls",
            "_model_module_version": "1.5.0",
            "_model_name": "DescriptionStyleModel",
            "_view_count": null,
            "_view_module": "@jupyter-widgets/base",
            "_view_module_version": "1.2.0",
            "_view_name": "StyleView",
            "description_width": ""
          }
        },
        "0301d96b8f4743a8bcce5bfea61474b7": {
          "model_module": "@jupyter-widgets/base",
          "model_name": "LayoutModel",
          "model_module_version": "1.2.0",
          "state": {
            "_model_module": "@jupyter-widgets/base",
            "_model_module_version": "1.2.0",
            "_model_name": "LayoutModel",
            "_view_count": null,
            "_view_module": "@jupyter-widgets/base",
            "_view_module_version": "1.2.0",
            "_view_name": "LayoutView",
            "align_content": null,
            "align_items": null,
            "align_self": null,
            "border": null,
            "bottom": null,
            "display": null,
            "flex": null,
            "flex_flow": null,
            "grid_area": null,
            "grid_auto_columns": null,
            "grid_auto_flow": null,
            "grid_auto_rows": null,
            "grid_column": null,
            "grid_gap": null,
            "grid_row": null,
            "grid_template_areas": null,
            "grid_template_columns": null,
            "grid_template_rows": null,
            "height": null,
            "justify_content": null,
            "justify_items": null,
            "left": null,
            "margin": null,
            "max_height": null,
            "max_width": null,
            "min_height": null,
            "min_width": null,
            "object_fit": null,
            "object_position": null,
            "order": null,
            "overflow": null,
            "overflow_x": null,
            "overflow_y": null,
            "padding": null,
            "right": null,
            "top": null,
            "visibility": null,
            "width": null
          }
        },
        "5f7b608e57ee4846a86601927ee9db9d": {
          "model_module": "@jupyter-widgets/controls",
          "model_name": "ProgressStyleModel",
          "model_module_version": "1.5.0",
          "state": {
            "_model_module": "@jupyter-widgets/controls",
            "_model_module_version": "1.5.0",
            "_model_name": "ProgressStyleModel",
            "_view_count": null,
            "_view_module": "@jupyter-widgets/base",
            "_view_module_version": "1.2.0",
            "_view_name": "StyleView",
            "bar_color": null,
            "description_width": ""
          }
        },
        "5922072d09dc44efbcacc9acc4e6cc54": {
          "model_module": "@jupyter-widgets/base",
          "model_name": "LayoutModel",
          "model_module_version": "1.2.0",
          "state": {
            "_model_module": "@jupyter-widgets/base",
            "_model_module_version": "1.2.0",
            "_model_name": "LayoutModel",
            "_view_count": null,
            "_view_module": "@jupyter-widgets/base",
            "_view_module_version": "1.2.0",
            "_view_name": "LayoutView",
            "align_content": null,
            "align_items": null,
            "align_self": null,
            "border": null,
            "bottom": null,
            "display": null,
            "flex": null,
            "flex_flow": null,
            "grid_area": null,
            "grid_auto_columns": null,
            "grid_auto_flow": null,
            "grid_auto_rows": null,
            "grid_column": null,
            "grid_gap": null,
            "grid_row": null,
            "grid_template_areas": null,
            "grid_template_columns": null,
            "grid_template_rows": null,
            "height": null,
            "justify_content": null,
            "justify_items": null,
            "left": null,
            "margin": null,
            "max_height": null,
            "max_width": null,
            "min_height": null,
            "min_width": null,
            "object_fit": null,
            "object_position": null,
            "order": null,
            "overflow": null,
            "overflow_x": null,
            "overflow_y": null,
            "padding": null,
            "right": null,
            "top": null,
            "visibility": null,
            "width": null
          }
        },
        "bc7408cb5c9b4315b02b676e468cb299": {
          "model_module": "@jupyter-widgets/controls",
          "model_name": "DescriptionStyleModel",
          "model_module_version": "1.5.0",
          "state": {
            "_model_module": "@jupyter-widgets/controls",
            "_model_module_version": "1.5.0",
            "_model_name": "DescriptionStyleModel",
            "_view_count": null,
            "_view_module": "@jupyter-widgets/base",
            "_view_module_version": "1.2.0",
            "_view_name": "StyleView",
            "description_width": ""
          }
        },
        "6984390e1d4347199a67ac88b19d3ffd": {
          "model_module": "@jupyter-widgets/controls",
          "model_name": "HBoxModel",
          "model_module_version": "1.5.0",
          "state": {
            "_dom_classes": [],
            "_model_module": "@jupyter-widgets/controls",
            "_model_module_version": "1.5.0",
            "_model_name": "HBoxModel",
            "_view_count": null,
            "_view_module": "@jupyter-widgets/controls",
            "_view_module_version": "1.5.0",
            "_view_name": "HBoxView",
            "box_style": "",
            "children": [
              "IPY_MODEL_f27376486d3741eb8b0880dc9f529578",
              "IPY_MODEL_0ac30b011afb4dc8b153db1c3946dc42",
              "IPY_MODEL_b594522f799c457a86cc6b1ec76ff93b"
            ],
            "layout": "IPY_MODEL_203a693625904f19a91766a95056c0d9"
          }
        },
        "f27376486d3741eb8b0880dc9f529578": {
          "model_module": "@jupyter-widgets/controls",
          "model_name": "HTMLModel",
          "model_module_version": "1.5.0",
          "state": {
            "_dom_classes": [],
            "_model_module": "@jupyter-widgets/controls",
            "_model_module_version": "1.5.0",
            "_model_name": "HTMLModel",
            "_view_count": null,
            "_view_module": "@jupyter-widgets/controls",
            "_view_module_version": "1.5.0",
            "_view_name": "HTMLView",
            "description": "",
            "description_tooltip": null,
            "layout": "IPY_MODEL_9f9d410cd0394b1a86b5c9e75155895b",
            "placeholder": "​",
            "style": "IPY_MODEL_95381d975cc6462d8a47630b5cd5ee71",
            "value": "Filter (num_proc=4): 100%"
          }
        },
        "0ac30b011afb4dc8b153db1c3946dc42": {
          "model_module": "@jupyter-widgets/controls",
          "model_name": "FloatProgressModel",
          "model_module_version": "1.5.0",
          "state": {
            "_dom_classes": [],
            "_model_module": "@jupyter-widgets/controls",
            "_model_module_version": "1.5.0",
            "_model_name": "FloatProgressModel",
            "_view_count": null,
            "_view_module": "@jupyter-widgets/controls",
            "_view_module_version": "1.5.0",
            "_view_name": "ProgressView",
            "bar_style": "success",
            "description": "",
            "description_tooltip": null,
            "layout": "IPY_MODEL_0605ce0bdd6f44c49f7c92d7d5d06996",
            "max": 569,
            "min": 0,
            "orientation": "horizontal",
            "style": "IPY_MODEL_8682d985c6b5475c80452b1107129faa",
            "value": 569
          }
        },
        "b594522f799c457a86cc6b1ec76ff93b": {
          "model_module": "@jupyter-widgets/controls",
          "model_name": "HTMLModel",
          "model_module_version": "1.5.0",
          "state": {
            "_dom_classes": [],
            "_model_module": "@jupyter-widgets/controls",
            "_model_module_version": "1.5.0",
            "_model_name": "HTMLModel",
            "_view_count": null,
            "_view_module": "@jupyter-widgets/controls",
            "_view_module_version": "1.5.0",
            "_view_name": "HTMLView",
            "description": "",
            "description_tooltip": null,
            "layout": "IPY_MODEL_f327507d84eb4c8697d32ef8ce8ce63d",
            "placeholder": "​",
            "style": "IPY_MODEL_8bbaf6d8e90e4797a71333cad67658df",
            "value": " 569/569 [00:00&lt;00:00, 4998.11 examples/s]"
          }
        },
        "203a693625904f19a91766a95056c0d9": {
          "model_module": "@jupyter-widgets/base",
          "model_name": "LayoutModel",
          "model_module_version": "1.2.0",
          "state": {
            "_model_module": "@jupyter-widgets/base",
            "_model_module_version": "1.2.0",
            "_model_name": "LayoutModel",
            "_view_count": null,
            "_view_module": "@jupyter-widgets/base",
            "_view_module_version": "1.2.0",
            "_view_name": "LayoutView",
            "align_content": null,
            "align_items": null,
            "align_self": null,
            "border": null,
            "bottom": null,
            "display": null,
            "flex": null,
            "flex_flow": null,
            "grid_area": null,
            "grid_auto_columns": null,
            "grid_auto_flow": null,
            "grid_auto_rows": null,
            "grid_column": null,
            "grid_gap": null,
            "grid_row": null,
            "grid_template_areas": null,
            "grid_template_columns": null,
            "grid_template_rows": null,
            "height": null,
            "justify_content": null,
            "justify_items": null,
            "left": null,
            "margin": null,
            "max_height": null,
            "max_width": null,
            "min_height": null,
            "min_width": null,
            "object_fit": null,
            "object_position": null,
            "order": null,
            "overflow": null,
            "overflow_x": null,
            "overflow_y": null,
            "padding": null,
            "right": null,
            "top": null,
            "visibility": null,
            "width": null
          }
        },
        "9f9d410cd0394b1a86b5c9e75155895b": {
          "model_module": "@jupyter-widgets/base",
          "model_name": "LayoutModel",
          "model_module_version": "1.2.0",
          "state": {
            "_model_module": "@jupyter-widgets/base",
            "_model_module_version": "1.2.0",
            "_model_name": "LayoutModel",
            "_view_count": null,
            "_view_module": "@jupyter-widgets/base",
            "_view_module_version": "1.2.0",
            "_view_name": "LayoutView",
            "align_content": null,
            "align_items": null,
            "align_self": null,
            "border": null,
            "bottom": null,
            "display": null,
            "flex": null,
            "flex_flow": null,
            "grid_area": null,
            "grid_auto_columns": null,
            "grid_auto_flow": null,
            "grid_auto_rows": null,
            "grid_column": null,
            "grid_gap": null,
            "grid_row": null,
            "grid_template_areas": null,
            "grid_template_columns": null,
            "grid_template_rows": null,
            "height": null,
            "justify_content": null,
            "justify_items": null,
            "left": null,
            "margin": null,
            "max_height": null,
            "max_width": null,
            "min_height": null,
            "min_width": null,
            "object_fit": null,
            "object_position": null,
            "order": null,
            "overflow": null,
            "overflow_x": null,
            "overflow_y": null,
            "padding": null,
            "right": null,
            "top": null,
            "visibility": null,
            "width": null
          }
        },
        "95381d975cc6462d8a47630b5cd5ee71": {
          "model_module": "@jupyter-widgets/controls",
          "model_name": "DescriptionStyleModel",
          "model_module_version": "1.5.0",
          "state": {
            "_model_module": "@jupyter-widgets/controls",
            "_model_module_version": "1.5.0",
            "_model_name": "DescriptionStyleModel",
            "_view_count": null,
            "_view_module": "@jupyter-widgets/base",
            "_view_module_version": "1.2.0",
            "_view_name": "StyleView",
            "description_width": ""
          }
        },
        "0605ce0bdd6f44c49f7c92d7d5d06996": {
          "model_module": "@jupyter-widgets/base",
          "model_name": "LayoutModel",
          "model_module_version": "1.2.0",
          "state": {
            "_model_module": "@jupyter-widgets/base",
            "_model_module_version": "1.2.0",
            "_model_name": "LayoutModel",
            "_view_count": null,
            "_view_module": "@jupyter-widgets/base",
            "_view_module_version": "1.2.0",
            "_view_name": "LayoutView",
            "align_content": null,
            "align_items": null,
            "align_self": null,
            "border": null,
            "bottom": null,
            "display": null,
            "flex": null,
            "flex_flow": null,
            "grid_area": null,
            "grid_auto_columns": null,
            "grid_auto_flow": null,
            "grid_auto_rows": null,
            "grid_column": null,
            "grid_gap": null,
            "grid_row": null,
            "grid_template_areas": null,
            "grid_template_columns": null,
            "grid_template_rows": null,
            "height": null,
            "justify_content": null,
            "justify_items": null,
            "left": null,
            "margin": null,
            "max_height": null,
            "max_width": null,
            "min_height": null,
            "min_width": null,
            "object_fit": null,
            "object_position": null,
            "order": null,
            "overflow": null,
            "overflow_x": null,
            "overflow_y": null,
            "padding": null,
            "right": null,
            "top": null,
            "visibility": null,
            "width": null
          }
        },
        "8682d985c6b5475c80452b1107129faa": {
          "model_module": "@jupyter-widgets/controls",
          "model_name": "ProgressStyleModel",
          "model_module_version": "1.5.0",
          "state": {
            "_model_module": "@jupyter-widgets/controls",
            "_model_module_version": "1.5.0",
            "_model_name": "ProgressStyleModel",
            "_view_count": null,
            "_view_module": "@jupyter-widgets/base",
            "_view_module_version": "1.2.0",
            "_view_name": "StyleView",
            "bar_color": null,
            "description_width": ""
          }
        },
        "f327507d84eb4c8697d32ef8ce8ce63d": {
          "model_module": "@jupyter-widgets/base",
          "model_name": "LayoutModel",
          "model_module_version": "1.2.0",
          "state": {
            "_model_module": "@jupyter-widgets/base",
            "_model_module_version": "1.2.0",
            "_model_name": "LayoutModel",
            "_view_count": null,
            "_view_module": "@jupyter-widgets/base",
            "_view_module_version": "1.2.0",
            "_view_name": "LayoutView",
            "align_content": null,
            "align_items": null,
            "align_self": null,
            "border": null,
            "bottom": null,
            "display": null,
            "flex": null,
            "flex_flow": null,
            "grid_area": null,
            "grid_auto_columns": null,
            "grid_auto_flow": null,
            "grid_auto_rows": null,
            "grid_column": null,
            "grid_gap": null,
            "grid_row": null,
            "grid_template_areas": null,
            "grid_template_columns": null,
            "grid_template_rows": null,
            "height": null,
            "justify_content": null,
            "justify_items": null,
            "left": null,
            "margin": null,
            "max_height": null,
            "max_width": null,
            "min_height": null,
            "min_width": null,
            "object_fit": null,
            "object_position": null,
            "order": null,
            "overflow": null,
            "overflow_x": null,
            "overflow_y": null,
            "padding": null,
            "right": null,
            "top": null,
            "visibility": null,
            "width": null
          }
        },
        "8bbaf6d8e90e4797a71333cad67658df": {
          "model_module": "@jupyter-widgets/controls",
          "model_name": "DescriptionStyleModel",
          "model_module_version": "1.5.0",
          "state": {
            "_model_module": "@jupyter-widgets/controls",
            "_model_module_version": "1.5.0",
            "_model_name": "DescriptionStyleModel",
            "_view_count": null,
            "_view_module": "@jupyter-widgets/base",
            "_view_module_version": "1.2.0",
            "_view_name": "StyleView",
            "description_width": ""
          }
        },
        "1c964bae66ec49618ad3de758a059da0": {
          "model_module": "@jupyter-widgets/controls",
          "model_name": "HBoxModel",
          "model_module_version": "1.5.0",
          "state": {
            "_dom_classes": [],
            "_model_module": "@jupyter-widgets/controls",
            "_model_module_version": "1.5.0",
            "_model_name": "HBoxModel",
            "_view_count": null,
            "_view_module": "@jupyter-widgets/controls",
            "_view_module_version": "1.5.0",
            "_view_name": "HBoxView",
            "box_style": "",
            "children": [
              "IPY_MODEL_522d73c825a64772a8bc94c84df2bffb",
              "IPY_MODEL_730a13d40c6f45979eee4aba258dc24f",
              "IPY_MODEL_ee3753f7594e455ca997acfee10c2667"
            ],
            "layout": "IPY_MODEL_52bc8f8d17a446cd806cf7f7cc3e6da0"
          }
        },
        "522d73c825a64772a8bc94c84df2bffb": {
          "model_module": "@jupyter-widgets/controls",
          "model_name": "HTMLModel",
          "model_module_version": "1.5.0",
          "state": {
            "_dom_classes": [],
            "_model_module": "@jupyter-widgets/controls",
            "_model_module_version": "1.5.0",
            "_model_name": "HTMLModel",
            "_view_count": null,
            "_view_module": "@jupyter-widgets/controls",
            "_view_module_version": "1.5.0",
            "_view_name": "HTMLView",
            "description": "",
            "description_tooltip": null,
            "layout": "IPY_MODEL_ea0bc6c474854f12a35430f50fb32291",
            "placeholder": "​",
            "style": "IPY_MODEL_7621fecf94ec4f4c8b67e88d67cdb0e3",
            "value": "Map: 100%"
          }
        },
        "730a13d40c6f45979eee4aba258dc24f": {
          "model_module": "@jupyter-widgets/controls",
          "model_name": "FloatProgressModel",
          "model_module_version": "1.5.0",
          "state": {
            "_dom_classes": [],
            "_model_module": "@jupyter-widgets/controls",
            "_model_module_version": "1.5.0",
            "_model_name": "FloatProgressModel",
            "_view_count": null,
            "_view_module": "@jupyter-widgets/controls",
            "_view_module_version": "1.5.0",
            "_view_name": "ProgressView",
            "bar_style": "success",
            "description": "",
            "description_tooltip": null,
            "layout": "IPY_MODEL_00a31ce0fb664d41ade78c3301f3e4a3",
            "max": 2267,
            "min": 0,
            "orientation": "horizontal",
            "style": "IPY_MODEL_f26f9814a58d4ce2a6ed00dc6b7456db",
            "value": 2267
          }
        },
        "ee3753f7594e455ca997acfee10c2667": {
          "model_module": "@jupyter-widgets/controls",
          "model_name": "HTMLModel",
          "model_module_version": "1.5.0",
          "state": {
            "_dom_classes": [],
            "_model_module": "@jupyter-widgets/controls",
            "_model_module_version": "1.5.0",
            "_model_name": "HTMLModel",
            "_view_count": null,
            "_view_module": "@jupyter-widgets/controls",
            "_view_module_version": "1.5.0",
            "_view_name": "HTMLView",
            "description": "",
            "description_tooltip": null,
            "layout": "IPY_MODEL_24b700b3d6224dd882069b233d1498c1",
            "placeholder": "​",
            "style": "IPY_MODEL_e0be963a52b74fe7b3bdc7b9a75dade9",
            "value": " 2267/2267 [00:00&lt;00:00, 7958.45 examples/s]"
          }
        },
        "52bc8f8d17a446cd806cf7f7cc3e6da0": {
          "model_module": "@jupyter-widgets/base",
          "model_name": "LayoutModel",
          "model_module_version": "1.2.0",
          "state": {
            "_model_module": "@jupyter-widgets/base",
            "_model_module_version": "1.2.0",
            "_model_name": "LayoutModel",
            "_view_count": null,
            "_view_module": "@jupyter-widgets/base",
            "_view_module_version": "1.2.0",
            "_view_name": "LayoutView",
            "align_content": null,
            "align_items": null,
            "align_self": null,
            "border": null,
            "bottom": null,
            "display": null,
            "flex": null,
            "flex_flow": null,
            "grid_area": null,
            "grid_auto_columns": null,
            "grid_auto_flow": null,
            "grid_auto_rows": null,
            "grid_column": null,
            "grid_gap": null,
            "grid_row": null,
            "grid_template_areas": null,
            "grid_template_columns": null,
            "grid_template_rows": null,
            "height": null,
            "justify_content": null,
            "justify_items": null,
            "left": null,
            "margin": null,
            "max_height": null,
            "max_width": null,
            "min_height": null,
            "min_width": null,
            "object_fit": null,
            "object_position": null,
            "order": null,
            "overflow": null,
            "overflow_x": null,
            "overflow_y": null,
            "padding": null,
            "right": null,
            "top": null,
            "visibility": null,
            "width": null
          }
        },
        "ea0bc6c474854f12a35430f50fb32291": {
          "model_module": "@jupyter-widgets/base",
          "model_name": "LayoutModel",
          "model_module_version": "1.2.0",
          "state": {
            "_model_module": "@jupyter-widgets/base",
            "_model_module_version": "1.2.0",
            "_model_name": "LayoutModel",
            "_view_count": null,
            "_view_module": "@jupyter-widgets/base",
            "_view_module_version": "1.2.0",
            "_view_name": "LayoutView",
            "align_content": null,
            "align_items": null,
            "align_self": null,
            "border": null,
            "bottom": null,
            "display": null,
            "flex": null,
            "flex_flow": null,
            "grid_area": null,
            "grid_auto_columns": null,
            "grid_auto_flow": null,
            "grid_auto_rows": null,
            "grid_column": null,
            "grid_gap": null,
            "grid_row": null,
            "grid_template_areas": null,
            "grid_template_columns": null,
            "grid_template_rows": null,
            "height": null,
            "justify_content": null,
            "justify_items": null,
            "left": null,
            "margin": null,
            "max_height": null,
            "max_width": null,
            "min_height": null,
            "min_width": null,
            "object_fit": null,
            "object_position": null,
            "order": null,
            "overflow": null,
            "overflow_x": null,
            "overflow_y": null,
            "padding": null,
            "right": null,
            "top": null,
            "visibility": null,
            "width": null
          }
        },
        "7621fecf94ec4f4c8b67e88d67cdb0e3": {
          "model_module": "@jupyter-widgets/controls",
          "model_name": "DescriptionStyleModel",
          "model_module_version": "1.5.0",
          "state": {
            "_model_module": "@jupyter-widgets/controls",
            "_model_module_version": "1.5.0",
            "_model_name": "DescriptionStyleModel",
            "_view_count": null,
            "_view_module": "@jupyter-widgets/base",
            "_view_module_version": "1.2.0",
            "_view_name": "StyleView",
            "description_width": ""
          }
        },
        "00a31ce0fb664d41ade78c3301f3e4a3": {
          "model_module": "@jupyter-widgets/base",
          "model_name": "LayoutModel",
          "model_module_version": "1.2.0",
          "state": {
            "_model_module": "@jupyter-widgets/base",
            "_model_module_version": "1.2.0",
            "_model_name": "LayoutModel",
            "_view_count": null,
            "_view_module": "@jupyter-widgets/base",
            "_view_module_version": "1.2.0",
            "_view_name": "LayoutView",
            "align_content": null,
            "align_items": null,
            "align_self": null,
            "border": null,
            "bottom": null,
            "display": null,
            "flex": null,
            "flex_flow": null,
            "grid_area": null,
            "grid_auto_columns": null,
            "grid_auto_flow": null,
            "grid_auto_rows": null,
            "grid_column": null,
            "grid_gap": null,
            "grid_row": null,
            "grid_template_areas": null,
            "grid_template_columns": null,
            "grid_template_rows": null,
            "height": null,
            "justify_content": null,
            "justify_items": null,
            "left": null,
            "margin": null,
            "max_height": null,
            "max_width": null,
            "min_height": null,
            "min_width": null,
            "object_fit": null,
            "object_position": null,
            "order": null,
            "overflow": null,
            "overflow_x": null,
            "overflow_y": null,
            "padding": null,
            "right": null,
            "top": null,
            "visibility": null,
            "width": null
          }
        },
        "f26f9814a58d4ce2a6ed00dc6b7456db": {
          "model_module": "@jupyter-widgets/controls",
          "model_name": "ProgressStyleModel",
          "model_module_version": "1.5.0",
          "state": {
            "_model_module": "@jupyter-widgets/controls",
            "_model_module_version": "1.5.0",
            "_model_name": "ProgressStyleModel",
            "_view_count": null,
            "_view_module": "@jupyter-widgets/base",
            "_view_module_version": "1.2.0",
            "_view_name": "StyleView",
            "bar_color": null,
            "description_width": ""
          }
        },
        "24b700b3d6224dd882069b233d1498c1": {
          "model_module": "@jupyter-widgets/base",
          "model_name": "LayoutModel",
          "model_module_version": "1.2.0",
          "state": {
            "_model_module": "@jupyter-widgets/base",
            "_model_module_version": "1.2.0",
            "_model_name": "LayoutModel",
            "_view_count": null,
            "_view_module": "@jupyter-widgets/base",
            "_view_module_version": "1.2.0",
            "_view_name": "LayoutView",
            "align_content": null,
            "align_items": null,
            "align_self": null,
            "border": null,
            "bottom": null,
            "display": null,
            "flex": null,
            "flex_flow": null,
            "grid_area": null,
            "grid_auto_columns": null,
            "grid_auto_flow": null,
            "grid_auto_rows": null,
            "grid_column": null,
            "grid_gap": null,
            "grid_row": null,
            "grid_template_areas": null,
            "grid_template_columns": null,
            "grid_template_rows": null,
            "height": null,
            "justify_content": null,
            "justify_items": null,
            "left": null,
            "margin": null,
            "max_height": null,
            "max_width": null,
            "min_height": null,
            "min_width": null,
            "object_fit": null,
            "object_position": null,
            "order": null,
            "overflow": null,
            "overflow_x": null,
            "overflow_y": null,
            "padding": null,
            "right": null,
            "top": null,
            "visibility": null,
            "width": null
          }
        },
        "e0be963a52b74fe7b3bdc7b9a75dade9": {
          "model_module": "@jupyter-widgets/controls",
          "model_name": "DescriptionStyleModel",
          "model_module_version": "1.5.0",
          "state": {
            "_model_module": "@jupyter-widgets/controls",
            "_model_module_version": "1.5.0",
            "_model_name": "DescriptionStyleModel",
            "_view_count": null,
            "_view_module": "@jupyter-widgets/base",
            "_view_module_version": "1.2.0",
            "_view_name": "StyleView",
            "description_width": ""
          }
        },
        "80c86b0dab644d81839a1bc99e761b91": {
          "model_module": "@jupyter-widgets/controls",
          "model_name": "HBoxModel",
          "model_module_version": "1.5.0",
          "state": {
            "_dom_classes": [],
            "_model_module": "@jupyter-widgets/controls",
            "_model_module_version": "1.5.0",
            "_model_name": "HBoxModel",
            "_view_count": null,
            "_view_module": "@jupyter-widgets/controls",
            "_view_module_version": "1.5.0",
            "_view_name": "HBoxView",
            "box_style": "",
            "children": [
              "IPY_MODEL_44aeb0bbd557465b80e3a3484df8251a",
              "IPY_MODEL_4b83491586894d03abd3c4eb9edacd7e",
              "IPY_MODEL_cdf446d4f4f74e99ac58405b5fd838d2"
            ],
            "layout": "IPY_MODEL_36b3db97db3f4f6aa8072a4ae44baac4"
          }
        },
        "44aeb0bbd557465b80e3a3484df8251a": {
          "model_module": "@jupyter-widgets/controls",
          "model_name": "HTMLModel",
          "model_module_version": "1.5.0",
          "state": {
            "_dom_classes": [],
            "_model_module": "@jupyter-widgets/controls",
            "_model_module_version": "1.5.0",
            "_model_name": "HTMLModel",
            "_view_count": null,
            "_view_module": "@jupyter-widgets/controls",
            "_view_module_version": "1.5.0",
            "_view_name": "HTMLView",
            "description": "",
            "description_tooltip": null,
            "layout": "IPY_MODEL_6070a6508d0a42c38e3603a1bc1e4b75",
            "placeholder": "​",
            "style": "IPY_MODEL_b341b7e0cb4e49a4b332b225554ce787",
            "value": "Map: 100%"
          }
        },
        "4b83491586894d03abd3c4eb9edacd7e": {
          "model_module": "@jupyter-widgets/controls",
          "model_name": "FloatProgressModel",
          "model_module_version": "1.5.0",
          "state": {
            "_dom_classes": [],
            "_model_module": "@jupyter-widgets/controls",
            "_model_module_version": "1.5.0",
            "_model_name": "FloatProgressModel",
            "_view_count": null,
            "_view_module": "@jupyter-widgets/controls",
            "_view_module_version": "1.5.0",
            "_view_name": "ProgressView",
            "bar_style": "success",
            "description": "",
            "description_tooltip": null,
            "layout": "IPY_MODEL_eb32d3bce7b947509af1bccd8f3313ad",
            "max": 566,
            "min": 0,
            "orientation": "horizontal",
            "style": "IPY_MODEL_5c3216c20ea24ce9ab82d88e5348da89",
            "value": 566
          }
        },
        "cdf446d4f4f74e99ac58405b5fd838d2": {
          "model_module": "@jupyter-widgets/controls",
          "model_name": "HTMLModel",
          "model_module_version": "1.5.0",
          "state": {
            "_dom_classes": [],
            "_model_module": "@jupyter-widgets/controls",
            "_model_module_version": "1.5.0",
            "_model_name": "HTMLModel",
            "_view_count": null,
            "_view_module": "@jupyter-widgets/controls",
            "_view_module_version": "1.5.0",
            "_view_name": "HTMLView",
            "description": "",
            "description_tooltip": null,
            "layout": "IPY_MODEL_fee02a42a669478890976d2cfead6660",
            "placeholder": "​",
            "style": "IPY_MODEL_eec1e67e2618421b8642d7bd7e58d466",
            "value": " 566/566 [00:00&lt;00:00, 5262.01 examples/s]"
          }
        },
        "36b3db97db3f4f6aa8072a4ae44baac4": {
          "model_module": "@jupyter-widgets/base",
          "model_name": "LayoutModel",
          "model_module_version": "1.2.0",
          "state": {
            "_model_module": "@jupyter-widgets/base",
            "_model_module_version": "1.2.0",
            "_model_name": "LayoutModel",
            "_view_count": null,
            "_view_module": "@jupyter-widgets/base",
            "_view_module_version": "1.2.0",
            "_view_name": "LayoutView",
            "align_content": null,
            "align_items": null,
            "align_self": null,
            "border": null,
            "bottom": null,
            "display": null,
            "flex": null,
            "flex_flow": null,
            "grid_area": null,
            "grid_auto_columns": null,
            "grid_auto_flow": null,
            "grid_auto_rows": null,
            "grid_column": null,
            "grid_gap": null,
            "grid_row": null,
            "grid_template_areas": null,
            "grid_template_columns": null,
            "grid_template_rows": null,
            "height": null,
            "justify_content": null,
            "justify_items": null,
            "left": null,
            "margin": null,
            "max_height": null,
            "max_width": null,
            "min_height": null,
            "min_width": null,
            "object_fit": null,
            "object_position": null,
            "order": null,
            "overflow": null,
            "overflow_x": null,
            "overflow_y": null,
            "padding": null,
            "right": null,
            "top": null,
            "visibility": null,
            "width": null
          }
        },
        "6070a6508d0a42c38e3603a1bc1e4b75": {
          "model_module": "@jupyter-widgets/base",
          "model_name": "LayoutModel",
          "model_module_version": "1.2.0",
          "state": {
            "_model_module": "@jupyter-widgets/base",
            "_model_module_version": "1.2.0",
            "_model_name": "LayoutModel",
            "_view_count": null,
            "_view_module": "@jupyter-widgets/base",
            "_view_module_version": "1.2.0",
            "_view_name": "LayoutView",
            "align_content": null,
            "align_items": null,
            "align_self": null,
            "border": null,
            "bottom": null,
            "display": null,
            "flex": null,
            "flex_flow": null,
            "grid_area": null,
            "grid_auto_columns": null,
            "grid_auto_flow": null,
            "grid_auto_rows": null,
            "grid_column": null,
            "grid_gap": null,
            "grid_row": null,
            "grid_template_areas": null,
            "grid_template_columns": null,
            "grid_template_rows": null,
            "height": null,
            "justify_content": null,
            "justify_items": null,
            "left": null,
            "margin": null,
            "max_height": null,
            "max_width": null,
            "min_height": null,
            "min_width": null,
            "object_fit": null,
            "object_position": null,
            "order": null,
            "overflow": null,
            "overflow_x": null,
            "overflow_y": null,
            "padding": null,
            "right": null,
            "top": null,
            "visibility": null,
            "width": null
          }
        },
        "b341b7e0cb4e49a4b332b225554ce787": {
          "model_module": "@jupyter-widgets/controls",
          "model_name": "DescriptionStyleModel",
          "model_module_version": "1.5.0",
          "state": {
            "_model_module": "@jupyter-widgets/controls",
            "_model_module_version": "1.5.0",
            "_model_name": "DescriptionStyleModel",
            "_view_count": null,
            "_view_module": "@jupyter-widgets/base",
            "_view_module_version": "1.2.0",
            "_view_name": "StyleView",
            "description_width": ""
          }
        },
        "eb32d3bce7b947509af1bccd8f3313ad": {
          "model_module": "@jupyter-widgets/base",
          "model_name": "LayoutModel",
          "model_module_version": "1.2.0",
          "state": {
            "_model_module": "@jupyter-widgets/base",
            "_model_module_version": "1.2.0",
            "_model_name": "LayoutModel",
            "_view_count": null,
            "_view_module": "@jupyter-widgets/base",
            "_view_module_version": "1.2.0",
            "_view_name": "LayoutView",
            "align_content": null,
            "align_items": null,
            "align_self": null,
            "border": null,
            "bottom": null,
            "display": null,
            "flex": null,
            "flex_flow": null,
            "grid_area": null,
            "grid_auto_columns": null,
            "grid_auto_flow": null,
            "grid_auto_rows": null,
            "grid_column": null,
            "grid_gap": null,
            "grid_row": null,
            "grid_template_areas": null,
            "grid_template_columns": null,
            "grid_template_rows": null,
            "height": null,
            "justify_content": null,
            "justify_items": null,
            "left": null,
            "margin": null,
            "max_height": null,
            "max_width": null,
            "min_height": null,
            "min_width": null,
            "object_fit": null,
            "object_position": null,
            "order": null,
            "overflow": null,
            "overflow_x": null,
            "overflow_y": null,
            "padding": null,
            "right": null,
            "top": null,
            "visibility": null,
            "width": null
          }
        },
        "5c3216c20ea24ce9ab82d88e5348da89": {
          "model_module": "@jupyter-widgets/controls",
          "model_name": "ProgressStyleModel",
          "model_module_version": "1.5.0",
          "state": {
            "_model_module": "@jupyter-widgets/controls",
            "_model_module_version": "1.5.0",
            "_model_name": "ProgressStyleModel",
            "_view_count": null,
            "_view_module": "@jupyter-widgets/base",
            "_view_module_version": "1.2.0",
            "_view_name": "StyleView",
            "bar_color": null,
            "description_width": ""
          }
        },
        "fee02a42a669478890976d2cfead6660": {
          "model_module": "@jupyter-widgets/base",
          "model_name": "LayoutModel",
          "model_module_version": "1.2.0",
          "state": {
            "_model_module": "@jupyter-widgets/base",
            "_model_module_version": "1.2.0",
            "_model_name": "LayoutModel",
            "_view_count": null,
            "_view_module": "@jupyter-widgets/base",
            "_view_module_version": "1.2.0",
            "_view_name": "LayoutView",
            "align_content": null,
            "align_items": null,
            "align_self": null,
            "border": null,
            "bottom": null,
            "display": null,
            "flex": null,
            "flex_flow": null,
            "grid_area": null,
            "grid_auto_columns": null,
            "grid_auto_flow": null,
            "grid_auto_rows": null,
            "grid_column": null,
            "grid_gap": null,
            "grid_row": null,
            "grid_template_areas": null,
            "grid_template_columns": null,
            "grid_template_rows": null,
            "height": null,
            "justify_content": null,
            "justify_items": null,
            "left": null,
            "margin": null,
            "max_height": null,
            "max_width": null,
            "min_height": null,
            "min_width": null,
            "object_fit": null,
            "object_position": null,
            "order": null,
            "overflow": null,
            "overflow_x": null,
            "overflow_y": null,
            "padding": null,
            "right": null,
            "top": null,
            "visibility": null,
            "width": null
          }
        },
        "eec1e67e2618421b8642d7bd7e58d466": {
          "model_module": "@jupyter-widgets/controls",
          "model_name": "DescriptionStyleModel",
          "model_module_version": "1.5.0",
          "state": {
            "_model_module": "@jupyter-widgets/controls",
            "_model_module_version": "1.5.0",
            "_model_name": "DescriptionStyleModel",
            "_view_count": null,
            "_view_module": "@jupyter-widgets/base",
            "_view_module_version": "1.2.0",
            "_view_name": "StyleView",
            "description_width": ""
          }
        },
        "d0672969c435476a8137312fcb534772": {
          "model_module": "@jupyter-widgets/controls",
          "model_name": "HBoxModel",
          "model_module_version": "1.5.0",
          "state": {
            "_dom_classes": [],
            "_model_module": "@jupyter-widgets/controls",
            "_model_module_version": "1.5.0",
            "_model_name": "HBoxModel",
            "_view_count": null,
            "_view_module": "@jupyter-widgets/controls",
            "_view_module_version": "1.5.0",
            "_view_name": "HBoxView",
            "box_style": "",
            "children": [
              "IPY_MODEL_8d387ea625574fb497fa8c47d802027b",
              "IPY_MODEL_670cd7753ec7488093928484d5c705d8",
              "IPY_MODEL_0823c966f1f446d4b9b215a57d2ac0d4"
            ],
            "layout": "IPY_MODEL_2e8410038ad142289b5803303777577f"
          }
        },
        "8d387ea625574fb497fa8c47d802027b": {
          "model_module": "@jupyter-widgets/controls",
          "model_name": "HTMLModel",
          "model_module_version": "1.5.0",
          "state": {
            "_dom_classes": [],
            "_model_module": "@jupyter-widgets/controls",
            "_model_module_version": "1.5.0",
            "_model_name": "HTMLModel",
            "_view_count": null,
            "_view_module": "@jupyter-widgets/controls",
            "_view_module_version": "1.5.0",
            "_view_name": "HTMLView",
            "description": "",
            "description_tooltip": null,
            "layout": "IPY_MODEL_34c557b220be454d8f205f3c15a01fc1",
            "placeholder": "​",
            "style": "IPY_MODEL_77aeb2e5041340a188b0f84cd41dfe2f",
            "value": "Map: 100%"
          }
        },
        "670cd7753ec7488093928484d5c705d8": {
          "model_module": "@jupyter-widgets/controls",
          "model_name": "FloatProgressModel",
          "model_module_version": "1.5.0",
          "state": {
            "_dom_classes": [],
            "_model_module": "@jupyter-widgets/controls",
            "_model_module_version": "1.5.0",
            "_model_name": "FloatProgressModel",
            "_view_count": null,
            "_view_module": "@jupyter-widgets/controls",
            "_view_module_version": "1.5.0",
            "_view_name": "ProgressView",
            "bar_style": "success",
            "description": "",
            "description_tooltip": null,
            "layout": "IPY_MODEL_85536f9d0ad54bc4976c96f485bc4132",
            "max": 2267,
            "min": 0,
            "orientation": "horizontal",
            "style": "IPY_MODEL_a8bd1d57efb54406856a8881fccba81e",
            "value": 2267
          }
        },
        "0823c966f1f446d4b9b215a57d2ac0d4": {
          "model_module": "@jupyter-widgets/controls",
          "model_name": "HTMLModel",
          "model_module_version": "1.5.0",
          "state": {
            "_dom_classes": [],
            "_model_module": "@jupyter-widgets/controls",
            "_model_module_version": "1.5.0",
            "_model_name": "HTMLModel",
            "_view_count": null,
            "_view_module": "@jupyter-widgets/controls",
            "_view_module_version": "1.5.0",
            "_view_name": "HTMLView",
            "description": "",
            "description_tooltip": null,
            "layout": "IPY_MODEL_4485c3be91884626bcd23c7ef3439826",
            "placeholder": "​",
            "style": "IPY_MODEL_6246fc741acc4fedb8080b721585c858",
            "value": " 2267/2267 [00:01&lt;00:00, 1257.02 examples/s]"
          }
        },
        "2e8410038ad142289b5803303777577f": {
          "model_module": "@jupyter-widgets/base",
          "model_name": "LayoutModel",
          "model_module_version": "1.2.0",
          "state": {
            "_model_module": "@jupyter-widgets/base",
            "_model_module_version": "1.2.0",
            "_model_name": "LayoutModel",
            "_view_count": null,
            "_view_module": "@jupyter-widgets/base",
            "_view_module_version": "1.2.0",
            "_view_name": "LayoutView",
            "align_content": null,
            "align_items": null,
            "align_self": null,
            "border": null,
            "bottom": null,
            "display": null,
            "flex": null,
            "flex_flow": null,
            "grid_area": null,
            "grid_auto_columns": null,
            "grid_auto_flow": null,
            "grid_auto_rows": null,
            "grid_column": null,
            "grid_gap": null,
            "grid_row": null,
            "grid_template_areas": null,
            "grid_template_columns": null,
            "grid_template_rows": null,
            "height": null,
            "justify_content": null,
            "justify_items": null,
            "left": null,
            "margin": null,
            "max_height": null,
            "max_width": null,
            "min_height": null,
            "min_width": null,
            "object_fit": null,
            "object_position": null,
            "order": null,
            "overflow": null,
            "overflow_x": null,
            "overflow_y": null,
            "padding": null,
            "right": null,
            "top": null,
            "visibility": null,
            "width": null
          }
        },
        "34c557b220be454d8f205f3c15a01fc1": {
          "model_module": "@jupyter-widgets/base",
          "model_name": "LayoutModel",
          "model_module_version": "1.2.0",
          "state": {
            "_model_module": "@jupyter-widgets/base",
            "_model_module_version": "1.2.0",
            "_model_name": "LayoutModel",
            "_view_count": null,
            "_view_module": "@jupyter-widgets/base",
            "_view_module_version": "1.2.0",
            "_view_name": "LayoutView",
            "align_content": null,
            "align_items": null,
            "align_self": null,
            "border": null,
            "bottom": null,
            "display": null,
            "flex": null,
            "flex_flow": null,
            "grid_area": null,
            "grid_auto_columns": null,
            "grid_auto_flow": null,
            "grid_auto_rows": null,
            "grid_column": null,
            "grid_gap": null,
            "grid_row": null,
            "grid_template_areas": null,
            "grid_template_columns": null,
            "grid_template_rows": null,
            "height": null,
            "justify_content": null,
            "justify_items": null,
            "left": null,
            "margin": null,
            "max_height": null,
            "max_width": null,
            "min_height": null,
            "min_width": null,
            "object_fit": null,
            "object_position": null,
            "order": null,
            "overflow": null,
            "overflow_x": null,
            "overflow_y": null,
            "padding": null,
            "right": null,
            "top": null,
            "visibility": null,
            "width": null
          }
        },
        "77aeb2e5041340a188b0f84cd41dfe2f": {
          "model_module": "@jupyter-widgets/controls",
          "model_name": "DescriptionStyleModel",
          "model_module_version": "1.5.0",
          "state": {
            "_model_module": "@jupyter-widgets/controls",
            "_model_module_version": "1.5.0",
            "_model_name": "DescriptionStyleModel",
            "_view_count": null,
            "_view_module": "@jupyter-widgets/base",
            "_view_module_version": "1.2.0",
            "_view_name": "StyleView",
            "description_width": ""
          }
        },
        "85536f9d0ad54bc4976c96f485bc4132": {
          "model_module": "@jupyter-widgets/base",
          "model_name": "LayoutModel",
          "model_module_version": "1.2.0",
          "state": {
            "_model_module": "@jupyter-widgets/base",
            "_model_module_version": "1.2.0",
            "_model_name": "LayoutModel",
            "_view_count": null,
            "_view_module": "@jupyter-widgets/base",
            "_view_module_version": "1.2.0",
            "_view_name": "LayoutView",
            "align_content": null,
            "align_items": null,
            "align_self": null,
            "border": null,
            "bottom": null,
            "display": null,
            "flex": null,
            "flex_flow": null,
            "grid_area": null,
            "grid_auto_columns": null,
            "grid_auto_flow": null,
            "grid_auto_rows": null,
            "grid_column": null,
            "grid_gap": null,
            "grid_row": null,
            "grid_template_areas": null,
            "grid_template_columns": null,
            "grid_template_rows": null,
            "height": null,
            "justify_content": null,
            "justify_items": null,
            "left": null,
            "margin": null,
            "max_height": null,
            "max_width": null,
            "min_height": null,
            "min_width": null,
            "object_fit": null,
            "object_position": null,
            "order": null,
            "overflow": null,
            "overflow_x": null,
            "overflow_y": null,
            "padding": null,
            "right": null,
            "top": null,
            "visibility": null,
            "width": null
          }
        },
        "a8bd1d57efb54406856a8881fccba81e": {
          "model_module": "@jupyter-widgets/controls",
          "model_name": "ProgressStyleModel",
          "model_module_version": "1.5.0",
          "state": {
            "_model_module": "@jupyter-widgets/controls",
            "_model_module_version": "1.5.0",
            "_model_name": "ProgressStyleModel",
            "_view_count": null,
            "_view_module": "@jupyter-widgets/base",
            "_view_module_version": "1.2.0",
            "_view_name": "StyleView",
            "bar_color": null,
            "description_width": ""
          }
        },
        "4485c3be91884626bcd23c7ef3439826": {
          "model_module": "@jupyter-widgets/base",
          "model_name": "LayoutModel",
          "model_module_version": "1.2.0",
          "state": {
            "_model_module": "@jupyter-widgets/base",
            "_model_module_version": "1.2.0",
            "_model_name": "LayoutModel",
            "_view_count": null,
            "_view_module": "@jupyter-widgets/base",
            "_view_module_version": "1.2.0",
            "_view_name": "LayoutView",
            "align_content": null,
            "align_items": null,
            "align_self": null,
            "border": null,
            "bottom": null,
            "display": null,
            "flex": null,
            "flex_flow": null,
            "grid_area": null,
            "grid_auto_columns": null,
            "grid_auto_flow": null,
            "grid_auto_rows": null,
            "grid_column": null,
            "grid_gap": null,
            "grid_row": null,
            "grid_template_areas": null,
            "grid_template_columns": null,
            "grid_template_rows": null,
            "height": null,
            "justify_content": null,
            "justify_items": null,
            "left": null,
            "margin": null,
            "max_height": null,
            "max_width": null,
            "min_height": null,
            "min_width": null,
            "object_fit": null,
            "object_position": null,
            "order": null,
            "overflow": null,
            "overflow_x": null,
            "overflow_y": null,
            "padding": null,
            "right": null,
            "top": null,
            "visibility": null,
            "width": null
          }
        },
        "6246fc741acc4fedb8080b721585c858": {
          "model_module": "@jupyter-widgets/controls",
          "model_name": "DescriptionStyleModel",
          "model_module_version": "1.5.0",
          "state": {
            "_model_module": "@jupyter-widgets/controls",
            "_model_module_version": "1.5.0",
            "_model_name": "DescriptionStyleModel",
            "_view_count": null,
            "_view_module": "@jupyter-widgets/base",
            "_view_module_version": "1.2.0",
            "_view_name": "StyleView",
            "description_width": ""
          }
        },
        "4092f10c175044379581f7cd676abc88": {
          "model_module": "@jupyter-widgets/controls",
          "model_name": "HBoxModel",
          "model_module_version": "1.5.0",
          "state": {
            "_dom_classes": [],
            "_model_module": "@jupyter-widgets/controls",
            "_model_module_version": "1.5.0",
            "_model_name": "HBoxModel",
            "_view_count": null,
            "_view_module": "@jupyter-widgets/controls",
            "_view_module_version": "1.5.0",
            "_view_name": "HBoxView",
            "box_style": "",
            "children": [
              "IPY_MODEL_c53a666d7fd54eaf88835cff3fe0ea40",
              "IPY_MODEL_a5910311ae6347aa9f0c7f6101e3926d",
              "IPY_MODEL_209990f9bdc24e14bd439b56842a4242"
            ],
            "layout": "IPY_MODEL_fdf9128dc35a437cb078cbf7ca4b444c"
          }
        },
        "c53a666d7fd54eaf88835cff3fe0ea40": {
          "model_module": "@jupyter-widgets/controls",
          "model_name": "HTMLModel",
          "model_module_version": "1.5.0",
          "state": {
            "_dom_classes": [],
            "_model_module": "@jupyter-widgets/controls",
            "_model_module_version": "1.5.0",
            "_model_name": "HTMLModel",
            "_view_count": null,
            "_view_module": "@jupyter-widgets/controls",
            "_view_module_version": "1.5.0",
            "_view_name": "HTMLView",
            "description": "",
            "description_tooltip": null,
            "layout": "IPY_MODEL_a5402698b7d641cf86590076d16d81b6",
            "placeholder": "​",
            "style": "IPY_MODEL_79b1b7b080204bfa86737a13687ae9d8",
            "value": "Map: 100%"
          }
        },
        "a5910311ae6347aa9f0c7f6101e3926d": {
          "model_module": "@jupyter-widgets/controls",
          "model_name": "FloatProgressModel",
          "model_module_version": "1.5.0",
          "state": {
            "_dom_classes": [],
            "_model_module": "@jupyter-widgets/controls",
            "_model_module_version": "1.5.0",
            "_model_name": "FloatProgressModel",
            "_view_count": null,
            "_view_module": "@jupyter-widgets/controls",
            "_view_module_version": "1.5.0",
            "_view_name": "ProgressView",
            "bar_style": "success",
            "description": "",
            "description_tooltip": null,
            "layout": "IPY_MODEL_af2e1fc9af8746e9b7d3c3f6e110f604",
            "max": 566,
            "min": 0,
            "orientation": "horizontal",
            "style": "IPY_MODEL_20abe3236e934ad7862957d2e91c273c",
            "value": 566
          }
        },
        "209990f9bdc24e14bd439b56842a4242": {
          "model_module": "@jupyter-widgets/controls",
          "model_name": "HTMLModel",
          "model_module_version": "1.5.0",
          "state": {
            "_dom_classes": [],
            "_model_module": "@jupyter-widgets/controls",
            "_model_module_version": "1.5.0",
            "_model_name": "HTMLModel",
            "_view_count": null,
            "_view_module": "@jupyter-widgets/controls",
            "_view_module_version": "1.5.0",
            "_view_name": "HTMLView",
            "description": "",
            "description_tooltip": null,
            "layout": "IPY_MODEL_6d4bb963b6794bc489d1f880a90881b0",
            "placeholder": "​",
            "style": "IPY_MODEL_4cd9be3e11f24dbda7da3f4cff7ff3db",
            "value": " 566/566 [00:00&lt;00:00, 1100.34 examples/s]"
          }
        },
        "fdf9128dc35a437cb078cbf7ca4b444c": {
          "model_module": "@jupyter-widgets/base",
          "model_name": "LayoutModel",
          "model_module_version": "1.2.0",
          "state": {
            "_model_module": "@jupyter-widgets/base",
            "_model_module_version": "1.2.0",
            "_model_name": "LayoutModel",
            "_view_count": null,
            "_view_module": "@jupyter-widgets/base",
            "_view_module_version": "1.2.0",
            "_view_name": "LayoutView",
            "align_content": null,
            "align_items": null,
            "align_self": null,
            "border": null,
            "bottom": null,
            "display": null,
            "flex": null,
            "flex_flow": null,
            "grid_area": null,
            "grid_auto_columns": null,
            "grid_auto_flow": null,
            "grid_auto_rows": null,
            "grid_column": null,
            "grid_gap": null,
            "grid_row": null,
            "grid_template_areas": null,
            "grid_template_columns": null,
            "grid_template_rows": null,
            "height": null,
            "justify_content": null,
            "justify_items": null,
            "left": null,
            "margin": null,
            "max_height": null,
            "max_width": null,
            "min_height": null,
            "min_width": null,
            "object_fit": null,
            "object_position": null,
            "order": null,
            "overflow": null,
            "overflow_x": null,
            "overflow_y": null,
            "padding": null,
            "right": null,
            "top": null,
            "visibility": null,
            "width": null
          }
        },
        "a5402698b7d641cf86590076d16d81b6": {
          "model_module": "@jupyter-widgets/base",
          "model_name": "LayoutModel",
          "model_module_version": "1.2.0",
          "state": {
            "_model_module": "@jupyter-widgets/base",
            "_model_module_version": "1.2.0",
            "_model_name": "LayoutModel",
            "_view_count": null,
            "_view_module": "@jupyter-widgets/base",
            "_view_module_version": "1.2.0",
            "_view_name": "LayoutView",
            "align_content": null,
            "align_items": null,
            "align_self": null,
            "border": null,
            "bottom": null,
            "display": null,
            "flex": null,
            "flex_flow": null,
            "grid_area": null,
            "grid_auto_columns": null,
            "grid_auto_flow": null,
            "grid_auto_rows": null,
            "grid_column": null,
            "grid_gap": null,
            "grid_row": null,
            "grid_template_areas": null,
            "grid_template_columns": null,
            "grid_template_rows": null,
            "height": null,
            "justify_content": null,
            "justify_items": null,
            "left": null,
            "margin": null,
            "max_height": null,
            "max_width": null,
            "min_height": null,
            "min_width": null,
            "object_fit": null,
            "object_position": null,
            "order": null,
            "overflow": null,
            "overflow_x": null,
            "overflow_y": null,
            "padding": null,
            "right": null,
            "top": null,
            "visibility": null,
            "width": null
          }
        },
        "79b1b7b080204bfa86737a13687ae9d8": {
          "model_module": "@jupyter-widgets/controls",
          "model_name": "DescriptionStyleModel",
          "model_module_version": "1.5.0",
          "state": {
            "_model_module": "@jupyter-widgets/controls",
            "_model_module_version": "1.5.0",
            "_model_name": "DescriptionStyleModel",
            "_view_count": null,
            "_view_module": "@jupyter-widgets/base",
            "_view_module_version": "1.2.0",
            "_view_name": "StyleView",
            "description_width": ""
          }
        },
        "af2e1fc9af8746e9b7d3c3f6e110f604": {
          "model_module": "@jupyter-widgets/base",
          "model_name": "LayoutModel",
          "model_module_version": "1.2.0",
          "state": {
            "_model_module": "@jupyter-widgets/base",
            "_model_module_version": "1.2.0",
            "_model_name": "LayoutModel",
            "_view_count": null,
            "_view_module": "@jupyter-widgets/base",
            "_view_module_version": "1.2.0",
            "_view_name": "LayoutView",
            "align_content": null,
            "align_items": null,
            "align_self": null,
            "border": null,
            "bottom": null,
            "display": null,
            "flex": null,
            "flex_flow": null,
            "grid_area": null,
            "grid_auto_columns": null,
            "grid_auto_flow": null,
            "grid_auto_rows": null,
            "grid_column": null,
            "grid_gap": null,
            "grid_row": null,
            "grid_template_areas": null,
            "grid_template_columns": null,
            "grid_template_rows": null,
            "height": null,
            "justify_content": null,
            "justify_items": null,
            "left": null,
            "margin": null,
            "max_height": null,
            "max_width": null,
            "min_height": null,
            "min_width": null,
            "object_fit": null,
            "object_position": null,
            "order": null,
            "overflow": null,
            "overflow_x": null,
            "overflow_y": null,
            "padding": null,
            "right": null,
            "top": null,
            "visibility": null,
            "width": null
          }
        },
        "20abe3236e934ad7862957d2e91c273c": {
          "model_module": "@jupyter-widgets/controls",
          "model_name": "ProgressStyleModel",
          "model_module_version": "1.5.0",
          "state": {
            "_model_module": "@jupyter-widgets/controls",
            "_model_module_version": "1.5.0",
            "_model_name": "ProgressStyleModel",
            "_view_count": null,
            "_view_module": "@jupyter-widgets/base",
            "_view_module_version": "1.2.0",
            "_view_name": "StyleView",
            "bar_color": null,
            "description_width": ""
          }
        },
        "6d4bb963b6794bc489d1f880a90881b0": {
          "model_module": "@jupyter-widgets/base",
          "model_name": "LayoutModel",
          "model_module_version": "1.2.0",
          "state": {
            "_model_module": "@jupyter-widgets/base",
            "_model_module_version": "1.2.0",
            "_model_name": "LayoutModel",
            "_view_count": null,
            "_view_module": "@jupyter-widgets/base",
            "_view_module_version": "1.2.0",
            "_view_name": "LayoutView",
            "align_content": null,
            "align_items": null,
            "align_self": null,
            "border": null,
            "bottom": null,
            "display": null,
            "flex": null,
            "flex_flow": null,
            "grid_area": null,
            "grid_auto_columns": null,
            "grid_auto_flow": null,
            "grid_auto_rows": null,
            "grid_column": null,
            "grid_gap": null,
            "grid_row": null,
            "grid_template_areas": null,
            "grid_template_columns": null,
            "grid_template_rows": null,
            "height": null,
            "justify_content": null,
            "justify_items": null,
            "left": null,
            "margin": null,
            "max_height": null,
            "max_width": null,
            "min_height": null,
            "min_width": null,
            "object_fit": null,
            "object_position": null,
            "order": null,
            "overflow": null,
            "overflow_x": null,
            "overflow_y": null,
            "padding": null,
            "right": null,
            "top": null,
            "visibility": null,
            "width": null
          }
        },
        "4cd9be3e11f24dbda7da3f4cff7ff3db": {
          "model_module": "@jupyter-widgets/controls",
          "model_name": "DescriptionStyleModel",
          "model_module_version": "1.5.0",
          "state": {
            "_model_module": "@jupyter-widgets/controls",
            "_model_module_version": "1.5.0",
            "_model_name": "DescriptionStyleModel",
            "_view_count": null,
            "_view_module": "@jupyter-widgets/base",
            "_view_module_version": "1.2.0",
            "_view_name": "StyleView",
            "description_width": ""
          }
        }
      }
    },
    "accelerator": "GPU"
  },
  "cells": [
    {
      "cell_type": "markdown",
      "metadata": {
        "id": "view-in-github",
        "colab_type": "text"
      },
      "source": [
        "<a href=\"https://colab.research.google.com/github/AlexeyK12/Natural-Language-Processing-course/blob/main/TB_class_questions.ipynb\" target=\"_parent\"><img src=\"https://colab.research.google.com/assets/colab-badge.svg\" alt=\"Open In Colab\"/></a>"
      ]
    },
    {
      "cell_type": "code",
      "source": [
        "!pip install razdel\n",
        "\n",
        "import torch\n",
        "import torch.nn as nn\n",
        "from torch.utils.data import Dataset, DataLoader\n",
        "from sklearn.model_selection import train_test_split\n",
        "from datasets import Dataset\n",
        "\n",
        "import numpy as np\n",
        "import matplotlib.pyplot as plt\n",
        "\n",
        "from tqdm.auto import tqdm\n",
        "from datasets import load_dataset\n",
        "from nltk.tokenize import word_tokenize\n",
        "from sklearn.model_selection import train_test_split\n",
        "import nltk\n",
        "\n",
        "from collections import Counter\n",
        "from collections import defaultdict\n",
        "from typing import List\n",
        "import string\n",
        "\n",
        "import seaborn\n",
        "seaborn.set(palette='summer')\n",
        "\n",
        "import pandas as pd\n",
        "from razdel import tokenize\n",
        "from collections import Counter\n",
        "from tqdm import tqdm\n",
        "import string\n",
        "\n",
        "from sklearn.metrics import accuracy_score\n",
        "import matplotlib.pyplot as plt\n",
        "\n",
        "import torch\n",
        "import numpy as np\n",
        "import random\n",
        "\n",
        "def set_seed(seed=42):\n",
        "    random.seed(seed)\n",
        "    np.random.seed(seed)\n",
        "    torch.manual_seed(seed)\n",
        "    torch.cuda.manual_seed(seed)\n",
        "    torch.cuda.manual_seed_all(seed)\n",
        "    torch.backends.cudnn.deterministic = True\n",
        "    torch.backends.cudnn.benchmark = False\n",
        "\n",
        "set_seed(12)\n",
        "\n",
        "device = 'cuda' if torch.cuda.is_available() else 'cpu'\n",
        "device"
      ],
      "metadata": {
        "id": "XOJi16bLpd_O",
        "colab": {
          "base_uri": "https://localhost:8080/",
          "height": 53
        },
        "outputId": "a735c7e1-a179-4d5c-bc5d-d61119233d00"
      },
      "execution_count": 12,
      "outputs": [
        {
          "output_type": "stream",
          "name": "stdout",
          "text": [
            "Requirement already satisfied: razdel in /usr/local/lib/python3.11/dist-packages (0.5.0)\n"
          ]
        },
        {
          "output_type": "execute_result",
          "data": {
            "text/plain": [
              "'cuda'"
            ],
            "application/vnd.google.colaboratory.intrinsic+json": {
              "type": "string"
            }
          },
          "metadata": {},
          "execution_count": 12
        }
      ]
    },
    {
      "cell_type": "code",
      "source": [
        "dataset = load_dataset('csv', data_files='dataset_tb.csv')\n",
        "\n",
        "\n",
        "# переименование и фильтрации столбцов\n",
        "def rename_and_filter_columns(example):\n",
        "    return {\n",
        "        'text': example['вопрос'],\n",
        "        'label': example['категория']\n",
        "    }\n",
        "\n",
        "dataset = dataset.map(rename_and_filter_columns, remove_columns=['вопрос', 'категория', 'ответ'])\n",
        "\n",
        "\n",
        "# train|test\n",
        "df = dataset['train'].to_pandas()\n",
        "\n",
        "train_df, test_df = train_test_split(\n",
        "    df,\n",
        "    test_size=0.2,\n",
        "    stratify=df['label'],\n",
        "    random_state=42\n",
        ")\n",
        "\n",
        "train_dataset = Dataset.from_pandas(train_df)\n",
        "test_dataset = Dataset.from_pandas(test_df)\n",
        "\n",
        "dataset = {\n",
        "    'train': train_dataset,\n",
        "    'test': test_dataset\n",
        "}\n",
        "\n",
        "\n",
        "# убираем пропуски\n",
        "dataset['train'] = dataset['train'].filter(lambda example: example['text'] is not None, num_proc=4)\n",
        "dataset['test'] = dataset['test'].filter(lambda example: example['text'] is not None, num_proc=4)\n",
        "\n",
        "\n",
        "# кодирование меток\n",
        "label2id = defaultdict(lambda: len(label2id))\n",
        "\n",
        "for example in dataset['train']:\n",
        "    label2id[example['label']]\n",
        "\n",
        "id2label = {v: k for k, v in label2id.items()}\n",
        "\n",
        "print(\"Label to ID:\", label2id)\n",
        "print(\"ID to Label:\", id2label)\n",
        "\n",
        "\n",
        "def encode_labels(example):\n",
        "    example['label'] = label2id[example['label']]\n",
        "    return example\n",
        "\n",
        "\n",
        "dataset['train'] = dataset['train'].map(encode_labels)\n",
        "dataset['test'] = dataset['test'].map(encode_labels)"
      ],
      "metadata": {
        "id": "qHLNWOfJqSfc",
        "colab": {
          "base_uri": "https://localhost:8080/",
          "height": 200,
          "referenced_widgets": [
            "b646529b304943ff98a81ccad7eee8a6",
            "ccd21e002b4f4e23a90b148069891d9d",
            "c3c8a717b2404666be3e69f178c7de6c",
            "7b72c2b0192c41e1949e87c46bf15a93",
            "a6fafeede4ac416f93cd9f8c4b9858f1",
            "6bbf194c8e604ac9b8f04f4ae41f5e28",
            "2e11e2cbb15541328bca6216fc0ecf46",
            "0301d96b8f4743a8bcce5bfea61474b7",
            "5f7b608e57ee4846a86601927ee9db9d",
            "5922072d09dc44efbcacc9acc4e6cc54",
            "bc7408cb5c9b4315b02b676e468cb299",
            "6984390e1d4347199a67ac88b19d3ffd",
            "f27376486d3741eb8b0880dc9f529578",
            "0ac30b011afb4dc8b153db1c3946dc42",
            "b594522f799c457a86cc6b1ec76ff93b",
            "203a693625904f19a91766a95056c0d9",
            "9f9d410cd0394b1a86b5c9e75155895b",
            "95381d975cc6462d8a47630b5cd5ee71",
            "0605ce0bdd6f44c49f7c92d7d5d06996",
            "8682d985c6b5475c80452b1107129faa",
            "f327507d84eb4c8697d32ef8ce8ce63d",
            "8bbaf6d8e90e4797a71333cad67658df",
            "1c964bae66ec49618ad3de758a059da0",
            "522d73c825a64772a8bc94c84df2bffb",
            "730a13d40c6f45979eee4aba258dc24f",
            "ee3753f7594e455ca997acfee10c2667",
            "52bc8f8d17a446cd806cf7f7cc3e6da0",
            "ea0bc6c474854f12a35430f50fb32291",
            "7621fecf94ec4f4c8b67e88d67cdb0e3",
            "00a31ce0fb664d41ade78c3301f3e4a3",
            "f26f9814a58d4ce2a6ed00dc6b7456db",
            "24b700b3d6224dd882069b233d1498c1",
            "e0be963a52b74fe7b3bdc7b9a75dade9",
            "80c86b0dab644d81839a1bc99e761b91",
            "44aeb0bbd557465b80e3a3484df8251a",
            "4b83491586894d03abd3c4eb9edacd7e",
            "cdf446d4f4f74e99ac58405b5fd838d2",
            "36b3db97db3f4f6aa8072a4ae44baac4",
            "6070a6508d0a42c38e3603a1bc1e4b75",
            "b341b7e0cb4e49a4b332b225554ce787",
            "eb32d3bce7b947509af1bccd8f3313ad",
            "5c3216c20ea24ce9ab82d88e5348da89",
            "fee02a42a669478890976d2cfead6660",
            "eec1e67e2618421b8642d7bd7e58d466"
          ]
        },
        "outputId": "a2c08fb7-6971-40d6-deec-b3091b391670"
      },
      "execution_count": 2,
      "outputs": [
        {
          "output_type": "display_data",
          "data": {
            "text/plain": [
              "Filter (num_proc=4):   0%|          | 0/2272 [00:00<?, ? examples/s]"
            ],
            "application/vnd.jupyter.widget-view+json": {
              "version_major": 2,
              "version_minor": 0,
              "model_id": "b646529b304943ff98a81ccad7eee8a6"
            }
          },
          "metadata": {}
        },
        {
          "output_type": "display_data",
          "data": {
            "text/plain": [
              "Filter (num_proc=4):   0%|          | 0/569 [00:00<?, ? examples/s]"
            ],
            "application/vnd.jupyter.widget-view+json": {
              "version_major": 2,
              "version_minor": 0,
              "model_id": "6984390e1d4347199a67ac88b19d3ffd"
            }
          },
          "metadata": {}
        },
        {
          "output_type": "stream",
          "name": "stdout",
          "text": [
            "Label to ID: defaultdict(<function <lambda> at 0x781b89f394e0>, {'Новые длительности смен': 0, 'Шаблон доступности': 1, 'Настройка системы': 2, 'Документы состояний': 3, 'Вопрос по нагрузке': 4, 'Секции не заполнена/не корректна': 5, 'Вопрос по работе на портале планирования': 6, 'Ограничение по ТК РФ': 7, 'Общие вопросы': 8, 'Внешний персонал': 9, 'Кадровые документы': 10, 'Ошибка планера': 11, 'Должности не участвуют в автопланировании': 12, 'Нет вопроса': 13})\n",
            "ID to Label: {0: 'Новые длительности смен', 1: 'Шаблон доступности', 2: 'Настройка системы', 3: 'Документы состояний', 4: 'Вопрос по нагрузке', 5: 'Секции не заполнена/не корректна', 6: 'Вопрос по работе на портале планирования', 7: 'Ограничение по ТК РФ', 8: 'Общие вопросы', 9: 'Внешний персонал', 10: 'Кадровые документы', 11: 'Ошибка планера', 12: 'Должности не участвуют в автопланировании', 13: 'Нет вопроса'}\n"
          ]
        },
        {
          "output_type": "display_data",
          "data": {
            "text/plain": [
              "Map:   0%|          | 0/2267 [00:00<?, ? examples/s]"
            ],
            "application/vnd.jupyter.widget-view+json": {
              "version_major": 2,
              "version_minor": 0,
              "model_id": "1c964bae66ec49618ad3de758a059da0"
            }
          },
          "metadata": {}
        },
        {
          "output_type": "display_data",
          "data": {
            "text/plain": [
              "Map:   0%|          | 0/566 [00:00<?, ? examples/s]"
            ],
            "application/vnd.jupyter.widget-view+json": {
              "version_major": 2,
              "version_minor": 0,
              "model_id": "80c86b0dab644d81839a1bc99e761b91"
            }
          },
          "metadata": {}
        }
      ]
    },
    {
      "cell_type": "code",
      "source": [
        "# нормализуем, токенезируем и создаём словарь\n",
        "words = Counter()\n",
        "\n",
        "for example in tqdm(dataset['train']['text']):\n",
        "    processed_text = example.lower().translate(str.maketrans('', '', string.punctuation))\n",
        "    for word in tokenize(processed_text):\n",
        "        words[word.text] += 1\n",
        "\n",
        "vocab = set(['<unk>', '<bos>', '<eos>', '<pad>'])\n",
        "counter_threshold = 10\n",
        "for word, cnt in words.items():\n",
        "    if cnt > counter_threshold:\n",
        "        vocab.add(word)\n",
        "\n",
        "print(f'Размер словаря: {len(vocab)}')\n",
        "\n",
        "word2ind = {word: i for i, word in enumerate(vocab)}\n",
        "ind2word = {i: word for word, i in word2ind.items()}\n",
        "\n",
        "print(list(vocab)[:20])"
      ],
      "metadata": {
        "id": "nEvCN0Y1w1yH",
        "colab": {
          "base_uri": "https://localhost:8080/"
        },
        "outputId": "3ea04e3b-ac0f-4b68-c6ac-8579bda3440d"
      },
      "execution_count": 3,
      "outputs": [
        {
          "output_type": "stream",
          "name": "stderr",
          "text": [
            "100%|██████████| 2267/2267 [00:00<00:00, 11091.31it/s]"
          ]
        },
        {
          "output_type": "stream",
          "name": "stdout",
          "text": [
            "Размер словаря: 467\n",
            "['период', 'времени', 'выводит', 'главной', 'если', 'неделя', '17', 'ставит', 'запланировано', 'расчет', 'выходные', '8', 'субботу', '9301800', '11', 'потребность', 'дневные', 'его', 'идет', 'еще']\n"
          ]
        },
        {
          "output_type": "stream",
          "name": "stderr",
          "text": [
            "\n"
          ]
        }
      ]
    },
    {
      "cell_type": "code",
      "source": [
        "# класс база\n",
        "class WordDataset:\n",
        "    def __init__(self, sentences):\n",
        "        self.data = sentences\n",
        "        self.unk_id = word2ind['<unk>']\n",
        "        self.bos_id = word2ind['<bos>']\n",
        "        self.eos_id = word2ind['<eos>']\n",
        "        self.pad_id = word2ind['<pad>']\n",
        "\n",
        "    def __getitem__(self, idx: int) -> List[int]:\n",
        "        processed_text = self.data[idx]['text'].lower().translate(\n",
        "            str.maketrans('', '', string.punctuation))\n",
        "        tokenized_sentence = [self.bos_id]\n",
        "        tokenized_sentence += [\n",
        "            word2ind.get(word, self.unk_id) for word in word_tokenize(processed_text)\n",
        "            ]\n",
        "        tokenized_sentence += [self.eos_id]\n",
        "\n",
        "        train_sample = {\n",
        "            \"text\": tokenized_sentence,\n",
        "            \"label\": self.data[idx]['label']\n",
        "        }\n",
        "\n",
        "        return train_sample\n",
        "\n",
        "    def __len__(self) -> int:\n",
        "        return len(self.data)\n",
        "\n",
        "\n",
        "def collate_fn_with_padding(\n",
        "    input_batch: List[List[int]], pad_id=word2ind['<pad>'], max_len=256) -> torch.Tensor:\n",
        "    seq_lens = [len(x['text']) for x in input_batch]\n",
        "    max_seq_len = min(max(seq_lens), max_len)\n",
        "\n",
        "    new_batch = []\n",
        "    for sequence in input_batch:\n",
        "        sequence['text'] = sequence['text'][:max_seq_len]\n",
        "        for _ in range(max_seq_len - len(sequence['text'])):\n",
        "            sequence['text'].append(pad_id)\n",
        "\n",
        "        new_batch.append(sequence['text'])\n",
        "\n",
        "    sequences = torch.LongTensor(new_batch).to(device)\n",
        "    labels = torch.LongTensor([x['label'] for x in input_batch]).to(device)\n",
        "\n",
        "    new_batch = {\n",
        "        'input_ids': sequences,\n",
        "        'label': labels\n",
        "    }\n",
        "\n",
        "    return new_batch"
      ],
      "metadata": {
        "id": "FVzXL17PzC7K"
      },
      "execution_count": 4,
      "outputs": []
    },
    {
      "cell_type": "code",
      "source": [
        "train_dataset = WordDataset(dataset['train'])\n",
        "\n",
        "np.random.seed(42)\n",
        "idx = np.random.choice(np.arange(len(dataset['test'])), 5000)\n",
        "eval_dataset = WordDataset(dataset['test'].select(idx))\n",
        "\n",
        "batch_size = 32\n",
        "train_dataloader = DataLoader(\n",
        "    train_dataset, shuffle=True, collate_fn=collate_fn_with_padding, batch_size=batch_size)\n",
        "\n",
        "eval_dataloader = DataLoader(\n",
        "    eval_dataset, shuffle=False, collate_fn=collate_fn_with_padding, batch_size=batch_size)\n",
        "\n",
        "\n",
        "def evaluate(model, eval_dataloader) -> float:\n",
        "    predictions = []\n",
        "    target = []\n",
        "    with torch.no_grad():\n",
        "        for batch in eval_dataloader:\n",
        "            logits = model(batch['input_ids'])\n",
        "            predictions.append(logits.argmax(dim=1))\n",
        "            target.append(batch['label'])\n",
        "\n",
        "    predictions = torch.cat(predictions)\n",
        "    target = torch.cat(target)\n",
        "    accuracy = (predictions == target).float().mean().item()\n",
        "\n",
        "    return accuracy\n",
        "\n",
        "\n",
        "# архитектура GRU с 2мя слоями\n",
        "class CharLM_v2_MultiLayer(nn.Module):\n",
        "    def __init__(\n",
        "        self, hidden_dim: int, vocab_size: int, num_classes: int = 14,\n",
        "        aggregation_type: str = 'max', num_layers: int = 2\n",
        "    ):\n",
        "        super().__init__()\n",
        "        self.embedding = nn.Embedding(vocab_size, hidden_dim)\n",
        "        self.rnn = nn.GRU(hidden_dim, hidden_dim, batch_first=True, num_layers=num_layers)\n",
        "        self.linear = nn.Linear(hidden_dim, hidden_dim)\n",
        "        self.projection = nn.Linear(hidden_dim, num_classes)\n",
        "\n",
        "        self.non_lin = nn.Tanh()\n",
        "        self.dropout = nn.Dropout(p=0.1)\n",
        "\n",
        "        self.aggregation_type = aggregation_type\n",
        "\n",
        "    def forward(self, input_batch) -> torch.Tensor:\n",
        "        embeddings = self.embedding(input_batch)\n",
        "        output, _ = self.rnn(embeddings)\n",
        "\n",
        "        if self.aggregation_type == 'max':\n",
        "            output = output.max(dim=1)[0]\n",
        "        elif self.aggregation_type == 'mean':\n",
        "            output = output.mean(dim=1)\n",
        "        else:\n",
        "            raise ValueError(\"Invalid aggregation_type\")\n",
        "\n",
        "        output = self.dropout(self.linear(self.non_lin(output)))\n",
        "        prediction = self.projection(self.non_lin(output))\n",
        "\n",
        "        return prediction\n",
        "\n",
        "\n",
        "model = CharLM_v2_MultiLayer(hidden_dim=256, vocab_size=len(vocab)).to(device)\n",
        "criterion = nn.CrossEntropyLoss(ignore_index=word2ind['<pad>'])\n",
        "optimizer = torch.optim.Adam(model.parameters())"
      ],
      "metadata": {
        "id": "6xmeK9Ys1BIG"
      },
      "execution_count": 5,
      "outputs": []
    },
    {
      "cell_type": "code",
      "source": [
        "num_epoch = 15\n",
        "eval_steps = len(train_dataloader) // 2\n",
        "\n",
        "losses_type = {}\n",
        "acc_type = {}\n",
        "\n",
        "for aggregation_type in ['max', 'mean']:\n",
        "    print(f\"Starting training for {aggregation_type}\")\n",
        "    losses = []\n",
        "    acc = []\n",
        "\n",
        "    model = CharLM_v2_MultiLayer(\n",
        "        hidden_dim=256, vocab_size=len(vocab), aggregation_type=aggregation_type).to(device)\n",
        "    criterion = nn.CrossEntropyLoss(ignore_index=word2ind['<pad>'])\n",
        "    optimizer = torch.optim.Adam(model.parameters())\n",
        "\n",
        "    for epoch in range(num_epoch):\n",
        "        epoch_losses = []\n",
        "        model.train()\n",
        "        for i, batch in enumerate(tqdm(train_dataloader, desc=f'Training epoch {epoch}:')):\n",
        "            optimizer.zero_grad()\n",
        "            logits = model(batch['input_ids'].to(device))\n",
        "            loss = criterion(logits, batch['label'].to(device))\n",
        "            loss.backward()\n",
        "            optimizer.step()\n",
        "\n",
        "            epoch_losses.append(loss.item())\n",
        "            if i % eval_steps == 0:\n",
        "                model.eval()\n",
        "                accuracy = evaluate(model, eval_dataloader)\n",
        "                acc.append(accuracy)\n",
        "                model.train()\n",
        "\n",
        "        losses.append(sum(epoch_losses) / len(epoch_losses))\n",
        "\n",
        "    losses_type[aggregation_type] = losses\n",
        "    acc_type[aggregation_type] = acc"
      ],
      "metadata": {
        "id": "A81bLJQgNfdm",
        "outputId": "8a463fc8-99fa-4047-81fc-8b46e1e3ed71",
        "colab": {
          "base_uri": "https://localhost:8080/"
        }
      },
      "execution_count": 6,
      "outputs": [
        {
          "output_type": "stream",
          "name": "stdout",
          "text": [
            "Starting training for max\n"
          ]
        },
        {
          "output_type": "stream",
          "name": "stderr",
          "text": [
            "Training epoch 0:: 100%|██████████| 71/71 [00:16<00:00,  4.21it/s]\n",
            "Training epoch 1:: 100%|██████████| 71/71 [00:14<00:00,  4.83it/s]\n",
            "Training epoch 2:: 100%|██████████| 71/71 [00:11<00:00,  6.04it/s]\n",
            "Training epoch 3:: 100%|██████████| 71/71 [00:11<00:00,  6.25it/s]\n",
            "Training epoch 4:: 100%|██████████| 71/71 [00:09<00:00,  7.41it/s]\n",
            "Training epoch 5:: 100%|██████████| 71/71 [00:07<00:00,  9.84it/s]\n",
            "Training epoch 6:: 100%|██████████| 71/71 [00:06<00:00, 10.97it/s]\n",
            "Training epoch 7:: 100%|██████████| 71/71 [00:07<00:00,  9.61it/s]\n",
            "Training epoch 8:: 100%|██████████| 71/71 [00:06<00:00, 11.02it/s]\n",
            "Training epoch 9:: 100%|██████████| 71/71 [00:07<00:00,  9.83it/s]\n",
            "Training epoch 10:: 100%|██████████| 71/71 [00:06<00:00, 10.23it/s]\n",
            "Training epoch 11:: 100%|██████████| 71/71 [00:06<00:00, 10.48it/s]\n",
            "Training epoch 12:: 100%|██████████| 71/71 [00:07<00:00,  9.11it/s]\n",
            "Training epoch 13:: 100%|██████████| 71/71 [00:07<00:00,  9.45it/s]\n",
            "Training epoch 14:: 100%|██████████| 71/71 [00:07<00:00,  9.70it/s]\n"
          ]
        },
        {
          "output_type": "stream",
          "name": "stdout",
          "text": [
            "Starting training for mean\n"
          ]
        },
        {
          "output_type": "stream",
          "name": "stderr",
          "text": [
            "Training epoch 0:: 100%|██████████| 71/71 [00:07<00:00, 10.04it/s]\n",
            "Training epoch 1:: 100%|██████████| 71/71 [00:06<00:00, 10.70it/s]\n",
            "Training epoch 2:: 100%|██████████| 71/71 [00:07<00:00,  9.96it/s]\n",
            "Training epoch 3:: 100%|██████████| 71/71 [00:06<00:00, 10.88it/s]\n",
            "Training epoch 4:: 100%|██████████| 71/71 [00:07<00:00,  9.73it/s]\n",
            "Training epoch 5:: 100%|██████████| 71/71 [00:06<00:00, 10.96it/s]\n",
            "Training epoch 6:: 100%|██████████| 71/71 [00:08<00:00,  8.30it/s]\n",
            "Training epoch 7:: 100%|██████████| 71/71 [00:07<00:00,  9.82it/s]\n",
            "Training epoch 8:: 100%|██████████| 71/71 [00:06<00:00, 10.99it/s]\n",
            "Training epoch 9:: 100%|██████████| 71/71 [00:07<00:00,  9.62it/s]\n",
            "Training epoch 10:: 100%|██████████| 71/71 [00:06<00:00, 10.94it/s]\n",
            "Training epoch 11:: 100%|██████████| 71/71 [00:07<00:00,  9.58it/s]\n",
            "Training epoch 12:: 100%|██████████| 71/71 [00:07<00:00,  9.69it/s]\n",
            "Training epoch 13:: 100%|██████████| 71/71 [00:06<00:00, 10.83it/s]\n",
            "Training epoch 14:: 100%|██████████| 71/71 [00:07<00:00,  9.88it/s]\n"
          ]
        }
      ]
    },
    {
      "cell_type": "code",
      "source": [
        "for (name, values), color in zip(losses_type.items(), ['red', 'blue']):\n",
        "    plt.plot(np.arange(len(losses_type[name])), losses_type[name], color=color, label=name)\n",
        "\n",
        "plt.title('Losses')\n",
        "plt.xlabel(\"epoch\")\n",
        "plt.legend()\n",
        "plt.show()"
      ],
      "metadata": {
        "id": "lCV0dMtNNfzF",
        "outputId": "7b9396ab-b7fa-46f6-a5aa-77f528c38232",
        "colab": {
          "base_uri": "https://localhost:8080/",
          "height": 480
        }
      },
      "execution_count": 7,
      "outputs": [
        {
          "output_type": "display_data",
          "data": {
            "text/plain": [
              "<Figure size 640x480 with 1 Axes>"
            ],
            "image/png": "[encoded data removed]"
          },
          "metadata": {}
        }
      ]
    },
    {
      "cell_type": "code",
      "source": [
        "for (name, values), color in zip(losses_type.items(), ['red', 'blue']):\n",
        "    plt.plot(np.arange(len(acc_type[name][1:])), acc_type[name][1:], color=color, label=name)\n",
        "    print(f\"Лучшая accuracy для подхода {name}: {(max(acc_type[name]) * 100):.2f}\")\n",
        "\n",
        "plt.title('Accuracy')\n",
        "plt.xlabel(\"epoch\")\n",
        "plt.legend()\n",
        "plt.show()"
      ],
      "metadata": {
        "id": "Vej8tulSNgEc",
        "outputId": "87b490dc-47c2-448f-fec6-3ac07e69681b",
        "colab": {
          "base_uri": "https://localhost:8080/",
          "height": 515
        }
      },
      "execution_count": 8,
      "outputs": [
        {
          "output_type": "stream",
          "name": "stdout",
          "text": [
            "Лучшая accuracy для подхода max: 63.46\n",
            "Лучшая accuracy для подхода mean: 61.00\n"
          ]
        },
        {
          "output_type": "display_data",
          "data": {
            "text/plain": [
              "<Figure size 640x480 with 1 Axes>"
            ],
            "image/png": "[encoded data removed]"
          },
          "metadata": {}
        }
      ]
    },
    {
      "cell_type": "markdown",
      "source": [
        "# BERT"
      ],
      "metadata": {
        "id": "AwE9bwqxkXic"
      }
    },
    {
      "cell_type": "code",
      "source": [
        "from transformers import BertTokenizer, BertForSequenceClassification, AdamW\n",
        "from torch.utils.data import DataLoader\n",
        "import torch\n",
        "from sklearn.metrics import classification_report, accuracy_score\n",
        "\n",
        "# токенизатор и BERT\n",
        "tokenizer = BertTokenizer.from_pretrained('bert-base-uncased')\n",
        "model = BertForSequenceClassification.from_pretrained('bert-base-uncased', num_labels=len(label2id)).to(device)\n",
        "\n",
        "def tokenize_function(examples):\n",
        "    return tokenizer(examples['text'], padding=\"max_length\", truncation=True, max_length=256)\n",
        "\n",
        "dataset['train'] = dataset['train'].map(tokenize_function, batched=True)\n",
        "dataset['test'] = dataset['test'].map(tokenize_function, batched=True)\n",
        "\n",
        "# тензоры\n",
        "def collate_fn(batch):\n",
        "    return {\n",
        "        'input_ids': torch.stack([torch.tensor(item['input_ids']) for item in batch]),\n",
        "        'attention_mask': torch.stack([torch.tensor(item['attention_mask']) for item in batch]),\n",
        "        'label': torch.tensor([item['label'] for item in batch])\n",
        "    }\n",
        "\n",
        "train_dataloader = DataLoader(dataset['train'], shuffle=True, batch_size=32, collate_fn=collate_fn)\n",
        "eval_dataloader = DataLoader(dataset['test'], batch_size=32, collate_fn=collate_fn)\n",
        "\n",
        "\n",
        "# оценка модели\n",
        "def evaluate(model, eval_dataloader):\n",
        "    model.eval()\n",
        "    predictions, true_labels = [], []\n",
        "\n",
        "    with torch.no_grad():\n",
        "        for batch in eval_dataloader:\n",
        "            outputs = model(\n",
        "                input_ids=batch['input_ids'].to(device),\n",
        "                attention_mask=batch['attention_mask'].to(device)\n",
        "            )\n",
        "            logits = outputs.logits\n",
        "            preds = torch.argmax(logits, dim=-1)\n",
        "            predictions.extend(preds.cpu().numpy())\n",
        "            true_labels.extend(batch['label'].cpu().numpy())\n",
        "\n",
        "    accuracy = accuracy_score(true_labels, predictions)\n",
        "    return accuracy, true_labels, predictions"
      ],
      "metadata": {
        "colab": {
          "base_uri": "https://localhost:8080/",
          "height": 240,
          "referenced_widgets": [
            "d0672969c435476a8137312fcb534772",
            "8d387ea625574fb497fa8c47d802027b",
            "670cd7753ec7488093928484d5c705d8",
            "0823c966f1f446d4b9b215a57d2ac0d4",
            "2e8410038ad142289b5803303777577f",
            "34c557b220be454d8f205f3c15a01fc1",
            "77aeb2e5041340a188b0f84cd41dfe2f",
            "85536f9d0ad54bc4976c96f485bc4132",
            "a8bd1d57efb54406856a8881fccba81e",
            "4485c3be91884626bcd23c7ef3439826",
            "6246fc741acc4fedb8080b721585c858",
            "4092f10c175044379581f7cd676abc88",
            "c53a666d7fd54eaf88835cff3fe0ea40",
            "a5910311ae6347aa9f0c7f6101e3926d",
            "209990f9bdc24e14bd439b56842a4242",
            "fdf9128dc35a437cb078cbf7ca4b444c",
            "a5402698b7d641cf86590076d16d81b6",
            "79b1b7b080204bfa86737a13687ae9d8",
            "af2e1fc9af8746e9b7d3c3f6e110f604",
            "20abe3236e934ad7862957d2e91c273c",
            "6d4bb963b6794bc489d1f880a90881b0",
            "4cd9be3e11f24dbda7da3f4cff7ff3db"
          ]
        },
        "id": "ftoJYOiqkaU-",
        "outputId": "a15fca25-7e02-4138-ccdf-2f3982bb3484"
      },
      "execution_count": 9,
      "outputs": [
        {
          "output_type": "stream",
          "name": "stderr",
          "text": [
            "/usr/local/lib/python3.11/dist-packages/huggingface_hub/utils/_auth.py:94: UserWarning: \n",
            "The secret `HF_TOKEN` does not exist in your Colab secrets.\n",
            "To authenticate with the Hugging Face Hub, create a token in your settings tab (https://huggingface.co/settings/tokens), set it as secret in your Google Colab and restart your session.\n",
            "You will be able to reuse this secret in all of your notebooks.\n",
            "Please note that authentication is recommended but still optional to access public models or datasets.\n",
            "  warnings.warn(\n",
            "Some weights of BertForSequenceClassification were not initialized from the model checkpoint at bert-base-uncased and are newly initialized: ['classifier.bias', 'classifier.weight']\n",
            "You should probably TRAIN this model on a down-stream task to be able to use it for predictions and inference.\n"
          ]
        },
        {
          "output_type": "display_data",
          "data": {
            "text/plain": [
              "Map:   0%|          | 0/2267 [00:00<?, ? examples/s]"
            ],
            "application/vnd.jupyter.widget-view+json": {
              "version_major": 2,
              "version_minor": 0,
              "model_id": "d0672969c435476a8137312fcb534772"
            }
          },
          "metadata": {}
        },
        {
          "output_type": "display_data",
          "data": {
            "text/plain": [
              "Map:   0%|          | 0/566 [00:00<?, ? examples/s]"
            ],
            "application/vnd.jupyter.widget-view+json": {
              "version_major": 2,
              "version_minor": 0,
              "model_id": "4092f10c175044379581f7cd676abc88"
            }
          },
          "metadata": {}
        }
      ]
    },
    {
      "cell_type": "code",
      "source": [
        "# функция обучения с валидацией\n",
        "def run_BERT(optimizer, num_epoch=3):\n",
        "    train_losses = []\n",
        "    eval_accuracies = []\n",
        "\n",
        "    for epoch in range(num_epoch):\n",
        "        model.train()\n",
        "        epoch_loss = 0\n",
        "\n",
        "        for batch in tqdm(train_dataloader, desc=f'Training epoch {epoch}:'):\n",
        "            optimizer.zero_grad()\n",
        "            outputs = model(\n",
        "                input_ids=batch['input_ids'].to(device),\n",
        "                attention_mask=batch['attention_mask'].to(device),\n",
        "                labels=batch['label'].to(device)\n",
        "            )\n",
        "            loss = outputs.loss\n",
        "            loss.backward()\n",
        "            optimizer.step()\n",
        "\n",
        "            epoch_loss += loss.item()\n",
        "\n",
        "        avg_epoch_loss = epoch_loss / len(train_dataloader)\n",
        "        train_losses.append(avg_epoch_loss)\n",
        "\n",
        "        accuracy, true_labels, predictions = evaluate(model, eval_dataloader)\n",
        "        eval_accuracies.append(accuracy)\n",
        "\n",
        "        print(f'Epoch {epoch + 1}: Loss = {avg_epoch_loss:.4f}, Accuracy = {accuracy:.4f}')\n",
        "\n",
        "\n",
        "    print(classification_report(true_labels, predictions, target_names=list(id2label.values())))\n",
        "\n",
        "    plt.figure(figsize=(12, 5))\n",
        "    plt.subplot(1, 2, 1)\n",
        "    plt.plot(train_losses, label='Train Loss', color='blue')\n",
        "    plt.xlabel('Epoch')\n",
        "    plt.ylabel('Loss')\n",
        "    plt.title('Training Loss')\n",
        "    plt.legend()\n",
        "    plt.subplot(1, 2, 2)\n",
        "    plt.plot(eval_accuracies, label='Validation Accuracy', color='green')\n",
        "    plt.xlabel('Epoch')\n",
        "    plt.ylabel('Accuracy')\n",
        "    plt.title('Validation Accuracy')\n",
        "    plt.legend()\n",
        "    plt.show()"
      ],
      "metadata": {
        "id": "XOsjuDOBkbTu"
      },
      "execution_count": 10,
      "outputs": []
    },
    {
      "cell_type": "code",
      "source": [
        "optimizer = torch.optim.Adam(model.parameters(), lr=5e-5)\n",
        "run_BERT(optimizer=optimizer)"
      ],
      "metadata": {
        "colab": {
          "base_uri": "https://localhost:8080/",
          "height": 1000
        },
        "id": "PxpCY27ezPzQ",
        "outputId": "e978d00f-3dbd-43f0-c76f-4cf0c600526a"
      },
      "execution_count": 28,
      "outputs": [
        {
          "output_type": "stream",
          "name": "stderr",
          "text": [
            "Training epoch 0:: 100%|██████████| 71/71 [01:32<00:00,  1.30s/it]\n"
          ]
        },
        {
          "output_type": "stream",
          "name": "stdout",
          "text": [
            "Epoch 1: Loss = 1.3817, Accuracy = 0.5177\n"
          ]
        },
        {
          "output_type": "stream",
          "name": "stderr",
          "text": [
            "Training epoch 1:: 100%|██████████| 71/71 [01:31<00:00,  1.29s/it]\n"
          ]
        },
        {
          "output_type": "stream",
          "name": "stdout",
          "text": [
            "Epoch 2: Loss = 1.1556, Accuracy = 0.5742\n"
          ]
        },
        {
          "output_type": "stream",
          "name": "stderr",
          "text": [
            "Training epoch 2:: 100%|██████████| 71/71 [01:31<00:00,  1.29s/it]\n"
          ]
        },
        {
          "output_type": "stream",
          "name": "stdout",
          "text": [
            "Epoch 3: Loss = 0.9603, Accuracy = 0.5565\n",
            "                                           precision    recall  f1-score   support\n",
            "\n",
            "                  Новые длительности смен       0.44      0.44      0.44        27\n",
            "                       Шаблон доступности       0.61      0.75      0.68       238\n",
            "                        Настройка системы       0.70      0.34      0.46       117\n",
            "                      Документы состояний       0.37      0.61      0.46        28\n",
            "                       Вопрос по нагрузке       0.46      0.80      0.58        54\n",
            "         Секции не заполнена/не корректна       0.00      0.00      0.00        11\n",
            " Вопрос по работе на портале планирования       0.00      0.00      0.00         9\n",
            "                     Ограничение по ТК РФ       0.21      0.14      0.17        21\n",
            "                            Общие вопросы       0.00      0.00      0.00        14\n",
            "                         Внешний персонал       0.00      0.00      0.00         6\n",
            "                       Кадровые документы       0.79      0.61      0.69        18\n",
            "                           Ошибка планера       0.00      0.00      0.00         5\n",
            "Должности не участвуют в автопланировании       0.56      0.62      0.59         8\n",
            "                              Нет вопроса       0.38      0.50      0.43        10\n",
            "\n",
            "                                 accuracy                           0.56       566\n",
            "                                macro avg       0.32      0.34      0.32       566\n",
            "                             weighted avg       0.53      0.56      0.52       566\n",
            "\n"
          ]
        },
        {
          "output_type": "stream",
          "name": "stderr",
          "text": [
            "/usr/local/lib/python3.11/dist-packages/sklearn/metrics/_classification.py:1565: UndefinedMetricWarning: Precision is ill-defined and being set to 0.0 in labels with no predicted samples. Use `zero_division` parameter to control this behavior.\n",
            "  _warn_prf(average, modifier, f\"{metric.capitalize()} is\", len(result))\n",
            "/usr/local/lib/python3.11/dist-packages/sklearn/metrics/_classification.py:1565: UndefinedMetricWarning: Precision is ill-defined and being set to 0.0 in labels with no predicted samples. Use `zero_division` parameter to control this behavior.\n",
            "  _warn_prf(average, modifier, f\"{metric.capitalize()} is\", len(result))\n",
            "/usr/local/lib/python3.11/dist-packages/sklearn/metrics/_classification.py:1565: UndefinedMetricWarning: Precision is ill-defined and being set to 0.0 in labels with no predicted samples. Use `zero_division` parameter to control this behavior.\n",
            "  _warn_prf(average, modifier, f\"{metric.capitalize()} is\", len(result))\n"
          ]
        },
        {
          "output_type": "display_data",
          "data": {
            "text/plain": [
              "<Figure size 1200x500 with 2 Axes>"
            ],
            "image/png": "[encoded data removed]"
          },
          "metadata": {}
        }
      ]
    },
    {
      "cell_type": "code",
      "source": [
        "optimizer = AdamW(model.parameters(), lr=5e-5)\n",
        "run_BERT(optimizer=optimizer)"
      ],
      "metadata": {
        "colab": {
          "base_uri": "https://localhost:8080/",
          "height": 1000
        },
        "id": "f6ldssDf0l3v",
        "outputId": "4d9ea5cc-0a57-4e82-a90f-f79c21170ba7"
      },
      "execution_count": 29,
      "outputs": [
        {
          "output_type": "stream",
          "name": "stderr",
          "text": [
            "/usr/local/lib/python3.11/dist-packages/transformers/optimization.py:591: FutureWarning: This implementation of AdamW is deprecated and will be removed in a future version. Use the PyTorch implementation torch.optim.AdamW instead, or set `no_deprecation_warning=True` to disable this warning\n",
            "  warnings.warn(\n",
            "Training epoch 0:: 100%|██████████| 71/71 [01:32<00:00,  1.30s/it]\n"
          ]
        },
        {
          "output_type": "stream",
          "name": "stdout",
          "text": [
            "Epoch 1: Loss = 0.8440, Accuracy = 0.6078\n"
          ]
        },
        {
          "output_type": "stream",
          "name": "stderr",
          "text": [
            "Training epoch 1:: 100%|██████████| 71/71 [01:31<00:00,  1.28s/it]\n"
          ]
        },
        {
          "output_type": "stream",
          "name": "stdout",
          "text": [
            "Epoch 2: Loss = 0.6645, Accuracy = 0.6148\n"
          ]
        },
        {
          "output_type": "stream",
          "name": "stderr",
          "text": [
            "Training epoch 2:: 100%|██████████| 71/71 [01:31<00:00,  1.28s/it]\n"
          ]
        },
        {
          "output_type": "stream",
          "name": "stdout",
          "text": [
            "Epoch 3: Loss = 0.5555, Accuracy = 0.6042\n",
            "                                           precision    recall  f1-score   support\n",
            "\n",
            "                  Новые длительности смен       0.58      0.56      0.57        27\n",
            "                       Шаблон доступности       0.71      0.66      0.69       238\n",
            "                        Настройка системы       0.57      0.59      0.58       117\n",
            "                      Документы состояний       0.49      0.61      0.54        28\n",
            "                       Вопрос по нагрузке       0.53      0.74      0.62        54\n",
            "         Секции не заполнена/не корректна       0.33      0.45      0.38        11\n",
            " Вопрос по работе на портале планирования       0.00      0.00      0.00         9\n",
            "                     Ограничение по ТК РФ       0.32      0.48      0.38        21\n",
            "                            Общие вопросы       0.50      0.29      0.36        14\n",
            "                         Внешний персонал       0.00      0.00      0.00         6\n",
            "                       Кадровые документы       0.92      0.67      0.77        18\n",
            "                           Ошибка планера       0.00      0.00      0.00         5\n",
            "Должности не участвуют в автопланировании       0.62      0.62      0.62         8\n",
            "                              Нет вопроса       0.89      0.80      0.84        10\n",
            "\n",
            "                                 accuracy                           0.60       566\n",
            "                                macro avg       0.46      0.46      0.45       566\n",
            "                             weighted avg       0.61      0.60      0.60       566\n",
            "\n"
          ]
        },
        {
          "output_type": "stream",
          "name": "stderr",
          "text": [
            "/usr/local/lib/python3.11/dist-packages/sklearn/metrics/_classification.py:1565: UndefinedMetricWarning: Precision is ill-defined and being set to 0.0 in labels with no predicted samples. Use `zero_division` parameter to control this behavior.\n",
            "  _warn_prf(average, modifier, f\"{metric.capitalize()} is\", len(result))\n",
            "/usr/local/lib/python3.11/dist-packages/sklearn/metrics/_classification.py:1565: UndefinedMetricWarning: Precision is ill-defined and being set to 0.0 in labels with no predicted samples. Use `zero_division` parameter to control this behavior.\n",
            "  _warn_prf(average, modifier, f\"{metric.capitalize()} is\", len(result))\n",
            "/usr/local/lib/python3.11/dist-packages/sklearn/metrics/_classification.py:1565: UndefinedMetricWarning: Precision is ill-defined and being set to 0.0 in labels with no predicted samples. Use `zero_division` parameter to control this behavior.\n",
            "  _warn_prf(average, modifier, f\"{metric.capitalize()} is\", len(result))\n"
          ]
        },
        {
          "output_type": "display_data",
          "data": {
            "text/plain": [
              "<Figure size 1200x500 with 2 Axes>"
            ],
            "image/png": "[encoded data removed]"
          },
          "metadata": {}
        }
      ]
    },
    {
      "cell_type": "code",
      "source": [
        "optimizer = torch.optim.SGD(model.parameters(), lr=0.01, momentum=0.9)\n",
        "run_BERT(optimizer=optimizer)"
      ],
      "metadata": {
        "colab": {
          "base_uri": "https://localhost:8080/",
          "height": 1000
        },
        "id": "ySMnJdw10mLD",
        "outputId": "d04e2a5a-0d80-46b6-9302-86b66f04ef1f"
      },
      "execution_count": 30,
      "outputs": [
        {
          "output_type": "stream",
          "name": "stderr",
          "text": [
            "Training epoch 0:: 100%|██████████| 71/71 [01:29<00:00,  1.26s/it]\n"
          ]
        },
        {
          "output_type": "stream",
          "name": "stdout",
          "text": [
            "Epoch 1: Loss = 1.8078, Accuracy = 0.4205\n"
          ]
        },
        {
          "output_type": "stream",
          "name": "stderr",
          "text": [
            "Training epoch 1:: 100%|██████████| 71/71 [01:29<00:00,  1.26s/it]\n"
          ]
        },
        {
          "output_type": "stream",
          "name": "stdout",
          "text": [
            "Epoch 2: Loss = 1.9848, Accuracy = 0.4205\n"
          ]
        },
        {
          "output_type": "stream",
          "name": "stderr",
          "text": [
            "Training epoch 2:: 100%|██████████| 71/71 [01:29<00:00,  1.26s/it]\n"
          ]
        },
        {
          "output_type": "stream",
          "name": "stdout",
          "text": [
            "Epoch 3: Loss = 1.9802, Accuracy = 0.4205\n",
            "                                           precision    recall  f1-score   support\n",
            "\n",
            "                  Новые длительности смен       0.00      0.00      0.00        27\n",
            "                       Шаблон доступности       0.42      1.00      0.59       238\n",
            "                        Настройка системы       0.00      0.00      0.00       117\n",
            "                      Документы состояний       0.00      0.00      0.00        28\n",
            "                       Вопрос по нагрузке       0.00      0.00      0.00        54\n",
            "         Секции не заполнена/не корректна       0.00      0.00      0.00        11\n",
            " Вопрос по работе на портале планирования       0.00      0.00      0.00         9\n",
            "                     Ограничение по ТК РФ       0.00      0.00      0.00        21\n",
            "                            Общие вопросы       0.00      0.00      0.00        14\n",
            "                         Внешний персонал       0.00      0.00      0.00         6\n",
            "                       Кадровые документы       0.00      0.00      0.00        18\n",
            "                           Ошибка планера       0.00      0.00      0.00         5\n",
            "Должности не участвуют в автопланировании       0.00      0.00      0.00         8\n",
            "                              Нет вопроса       0.00      0.00      0.00        10\n",
            "\n",
            "                                 accuracy                           0.42       566\n",
            "                                macro avg       0.03      0.07      0.04       566\n",
            "                             weighted avg       0.18      0.42      0.25       566\n",
            "\n"
          ]
        },
        {
          "output_type": "stream",
          "name": "stderr",
          "text": [
            "/usr/local/lib/python3.11/dist-packages/sklearn/metrics/_classification.py:1565: UndefinedMetricWarning: Precision is ill-defined and being set to 0.0 in labels with no predicted samples. Use `zero_division` parameter to control this behavior.\n",
            "  _warn_prf(average, modifier, f\"{metric.capitalize()} is\", len(result))\n",
            "/usr/local/lib/python3.11/dist-packages/sklearn/metrics/_classification.py:1565: UndefinedMetricWarning: Precision is ill-defined and being set to 0.0 in labels with no predicted samples. Use `zero_division` parameter to control this behavior.\n",
            "  _warn_prf(average, modifier, f\"{metric.capitalize()} is\", len(result))\n",
            "/usr/local/lib/python3.11/dist-packages/sklearn/metrics/_classification.py:1565: UndefinedMetricWarning: Precision is ill-defined and being set to 0.0 in labels with no predicted samples. Use `zero_division` parameter to control this behavior.\n",
            "  _warn_prf(average, modifier, f\"{metric.capitalize()} is\", len(result))\n"
          ]
        },
        {
          "output_type": "display_data",
          "data": {
            "text/plain": [
              "<Figure size 1200x500 with 2 Axes>"
            ],
            "image/png": "[encoded data removed]"
          },
          "metadata": {}
        }
      ]
    },
    {
      "cell_type": "code",
      "source": [
        "optimizer = torch.optim.RMSprop(model.parameters(), lr=0.001, alpha=0.99)\n",
        "run_BERT(optimizer=optimizer)"
      ],
      "metadata": {
        "colab": {
          "base_uri": "https://localhost:8080/",
          "height": 1000
        },
        "id": "IsbgdnQ30mfX",
        "outputId": "290df1b7-5704-49da-efd1-380efedb4c46"
      },
      "execution_count": 31,
      "outputs": [
        {
          "output_type": "stream",
          "name": "stderr",
          "text": [
            "Training epoch 0:: 100%|██████████| 71/71 [01:29<00:00,  1.27s/it]\n"
          ]
        },
        {
          "output_type": "stream",
          "name": "stdout",
          "text": [
            "Epoch 1: Loss = 2.5576, Accuracy = 0.4205\n"
          ]
        },
        {
          "output_type": "stream",
          "name": "stderr",
          "text": [
            "Training epoch 1:: 100%|██████████| 71/71 [01:30<00:00,  1.27s/it]\n"
          ]
        },
        {
          "output_type": "stream",
          "name": "stdout",
          "text": [
            "Epoch 2: Loss = 2.0809, Accuracy = 0.4205\n"
          ]
        },
        {
          "output_type": "stream",
          "name": "stderr",
          "text": [
            "Training epoch 2:: 100%|██████████| 71/71 [01:29<00:00,  1.27s/it]\n"
          ]
        },
        {
          "output_type": "stream",
          "name": "stdout",
          "text": [
            "Epoch 3: Loss = 2.0574, Accuracy = 0.4205\n",
            "                                           precision    recall  f1-score   support\n",
            "\n",
            "                  Новые длительности смен       0.00      0.00      0.00        27\n",
            "                       Шаблон доступности       0.42      1.00      0.59       238\n",
            "                        Настройка системы       0.00      0.00      0.00       117\n",
            "                      Документы состояний       0.00      0.00      0.00        28\n",
            "                       Вопрос по нагрузке       0.00      0.00      0.00        54\n",
            "         Секции не заполнена/не корректна       0.00      0.00      0.00        11\n",
            " Вопрос по работе на портале планирования       0.00      0.00      0.00         9\n",
            "                     Ограничение по ТК РФ       0.00      0.00      0.00        21\n",
            "                            Общие вопросы       0.00      0.00      0.00        14\n",
            "                         Внешний персонал       0.00      0.00      0.00         6\n",
            "                       Кадровые документы       0.00      0.00      0.00        18\n",
            "                           Ошибка планера       0.00      0.00      0.00         5\n",
            "Должности не участвуют в автопланировании       0.00      0.00      0.00         8\n",
            "                              Нет вопроса       0.00      0.00      0.00        10\n",
            "\n",
            "                                 accuracy                           0.42       566\n",
            "                                macro avg       0.03      0.07      0.04       566\n",
            "                             weighted avg       0.18      0.42      0.25       566\n",
            "\n"
          ]
        },
        {
          "output_type": "stream",
          "name": "stderr",
          "text": [
            "/usr/local/lib/python3.11/dist-packages/sklearn/metrics/_classification.py:1565: UndefinedMetricWarning: Precision is ill-defined and being set to 0.0 in labels with no predicted samples. Use `zero_division` parameter to control this behavior.\n",
            "  _warn_prf(average, modifier, f\"{metric.capitalize()} is\", len(result))\n",
            "/usr/local/lib/python3.11/dist-packages/sklearn/metrics/_classification.py:1565: UndefinedMetricWarning: Precision is ill-defined and being set to 0.0 in labels with no predicted samples. Use `zero_division` parameter to control this behavior.\n",
            "  _warn_prf(average, modifier, f\"{metric.capitalize()} is\", len(result))\n",
            "/usr/local/lib/python3.11/dist-packages/sklearn/metrics/_classification.py:1565: UndefinedMetricWarning: Precision is ill-defined and being set to 0.0 in labels with no predicted samples. Use `zero_division` parameter to control this behavior.\n",
            "  _warn_prf(average, modifier, f\"{metric.capitalize()} is\", len(result))\n"
          ]
        },
        {
          "output_type": "display_data",
          "data": {
            "text/plain": [
              "<Figure size 1200x500 with 2 Axes>"
            ],
            "image/png": "[encoded data removed]"
          },
          "metadata": {}
        }
      ]
    },
    {
      "cell_type": "code",
      "source": [],
      "metadata": {
        "id": "UjHwbcTZ4gX0"
      },
      "execution_count": null,
      "outputs": []
    },
    {
      "cell_type": "code",
      "source": [
        "optimizer = AdamW(model.parameters(), lr=5e-5)\n",
        "run_BERT(optimizer=optimizer, num_epoch=10)"
      ],
      "metadata": {
        "colab": {
          "base_uri": "https://localhost:8080/",
          "height": 1000
        },
        "id": "W42H8Xt84g7w",
        "outputId": "90799ed9-2dc7-4e22-e62a-dfa627b80fd4"
      },
      "execution_count": 11,
      "outputs": [
        {
          "output_type": "stream",
          "name": "stderr",
          "text": [
            "/usr/local/lib/python3.11/dist-packages/transformers/optimization.py:591: FutureWarning: This implementation of AdamW is deprecated and will be removed in a future version. Use the PyTorch implementation torch.optim.AdamW instead, or set `no_deprecation_warning=True` to disable this warning\n",
            "  warnings.warn(\n",
            "Training epoch 0:: 100%|██████████| 71/71 [01:31<00:00,  1.29s/it]\n"
          ]
        },
        {
          "output_type": "stream",
          "name": "stdout",
          "text": [
            "Epoch 1: Loss = 1.9483, Accuracy = 0.4276\n"
          ]
        },
        {
          "output_type": "stream",
          "name": "stderr",
          "text": [
            "Training epoch 1:: 100%|██████████| 71/71 [01:31<00:00,  1.29s/it]\n"
          ]
        },
        {
          "output_type": "stream",
          "name": "stdout",
          "text": [
            "Epoch 2: Loss = 1.7969, Accuracy = 0.4735\n"
          ]
        },
        {
          "output_type": "stream",
          "name": "stderr",
          "text": [
            "Training epoch 2:: 100%|██████████| 71/71 [01:31<00:00,  1.29s/it]\n"
          ]
        },
        {
          "output_type": "stream",
          "name": "stdout",
          "text": [
            "Epoch 3: Loss = 1.6379, Accuracy = 0.4647\n"
          ]
        },
        {
          "output_type": "stream",
          "name": "stderr",
          "text": [
            "Training epoch 3:: 100%|██████████| 71/71 [01:30<00:00,  1.28s/it]\n"
          ]
        },
        {
          "output_type": "stream",
          "name": "stdout",
          "text": [
            "Epoch 4: Loss = 1.4619, Accuracy = 0.5035\n"
          ]
        },
        {
          "output_type": "stream",
          "name": "stderr",
          "text": [
            "Training epoch 4:: 100%|██████████| 71/71 [01:30<00:00,  1.28s/it]\n"
          ]
        },
        {
          "output_type": "stream",
          "name": "stdout",
          "text": [
            "Epoch 5: Loss = 1.2798, Accuracy = 0.5495\n"
          ]
        },
        {
          "output_type": "stream",
          "name": "stderr",
          "text": [
            "Training epoch 5:: 100%|██████████| 71/71 [01:30<00:00,  1.28s/it]\n"
          ]
        },
        {
          "output_type": "stream",
          "name": "stdout",
          "text": [
            "Epoch 6: Loss = 1.0946, Accuracy = 0.5777\n"
          ]
        },
        {
          "output_type": "stream",
          "name": "stderr",
          "text": [
            "Training epoch 6:: 100%|██████████| 71/71 [01:30<00:00,  1.28s/it]\n"
          ]
        },
        {
          "output_type": "stream",
          "name": "stdout",
          "text": [
            "Epoch 7: Loss = 0.9253, Accuracy = 0.5707\n"
          ]
        },
        {
          "output_type": "stream",
          "name": "stderr",
          "text": [
            "Training epoch 7:: 100%|██████████| 71/71 [01:30<00:00,  1.28s/it]\n"
          ]
        },
        {
          "output_type": "stream",
          "name": "stdout",
          "text": [
            "Epoch 8: Loss = 0.7543, Accuracy = 0.5936\n"
          ]
        },
        {
          "output_type": "stream",
          "name": "stderr",
          "text": [
            "Training epoch 8:: 100%|██████████| 71/71 [01:31<00:00,  1.28s/it]\n"
          ]
        },
        {
          "output_type": "stream",
          "name": "stdout",
          "text": [
            "Epoch 9: Loss = 0.6487, Accuracy = 0.5742\n"
          ]
        },
        {
          "output_type": "stream",
          "name": "stderr",
          "text": [
            "Training epoch 9:: 100%|██████████| 71/71 [01:30<00:00,  1.28s/it]\n"
          ]
        },
        {
          "output_type": "stream",
          "name": "stdout",
          "text": [
            "Epoch 10: Loss = 0.5000, Accuracy = 0.5901\n",
            "                                           precision    recall  f1-score   support\n",
            "\n",
            "                  Новые длительности смен       0.38      0.59      0.46        27\n",
            "                       Шаблон доступности       0.79      0.58      0.67       238\n",
            "                        Настройка системы       0.55      0.69      0.61       117\n",
            "                      Документы состояний       0.38      0.64      0.47        28\n",
            "                       Вопрос по нагрузке       0.59      0.76      0.67        54\n",
            "         Секции не заполнена/не корректна       0.35      0.55      0.43        11\n",
            " Вопрос по работе на портале планирования       0.33      0.11      0.17         9\n",
            "                     Ограничение по ТК РФ       0.31      0.38      0.34        21\n",
            "                            Общие вопросы       0.33      0.21      0.26        14\n",
            "                         Внешний персонал       0.00      0.00      0.00         6\n",
            "                       Кадровые документы       0.92      0.67      0.77        18\n",
            "                           Ошибка планера       0.00      0.00      0.00         5\n",
            "Должности не участвуют в автопланировании       0.67      0.50      0.57         8\n",
            "                              Нет вопроса       0.64      0.70      0.67        10\n",
            "\n",
            "                                 accuracy                           0.59       566\n",
            "                                macro avg       0.45      0.46      0.43       566\n",
            "                             weighted avg       0.62      0.59      0.59       566\n",
            "\n"
          ]
        },
        {
          "output_type": "stream",
          "name": "stderr",
          "text": [
            "/usr/local/lib/python3.11/dist-packages/sklearn/metrics/_classification.py:1565: UndefinedMetricWarning: Precision is ill-defined and being set to 0.0 in labels with no predicted samples. Use `zero_division` parameter to control this behavior.\n",
            "  _warn_prf(average, modifier, f\"{metric.capitalize()} is\", len(result))\n",
            "/usr/local/lib/python3.11/dist-packages/sklearn/metrics/_classification.py:1565: UndefinedMetricWarning: Precision is ill-defined and being set to 0.0 in labels with no predicted samples. Use `zero_division` parameter to control this behavior.\n",
            "  _warn_prf(average, modifier, f\"{metric.capitalize()} is\", len(result))\n",
            "/usr/local/lib/python3.11/dist-packages/sklearn/metrics/_classification.py:1565: UndefinedMetricWarning: Precision is ill-defined and being set to 0.0 in labels with no predicted samples. Use `zero_division` parameter to control this behavior.\n",
            "  _warn_prf(average, modifier, f\"{metric.capitalize()} is\", len(result))\n"
          ]
        },
        {
          "output_type": "display_data",
          "data": {
            "text/plain": [
              "<Figure size 1200x500 with 2 Axes>"
            ],
            "image/png": "[encoded data removed]"
          },
          "metadata": {}
        }
      ]
    },
    {
      "cell_type": "code",
      "source": [],
      "metadata": {
        "id": "Wbl0Pbcq6BTT"
      },
      "execution_count": null,
      "outputs": []
    }
  ]
}